{
 "cells": [
  {
   "cell_type": "code",
   "execution_count": null,
   "id": "ada38cfa",
   "metadata": {},
   "outputs": [],
   "source": [
    "import numpy as np\n",
    "import pandas as pd\n",
    "import rdkit\n",
    "import mordred\n",
    "\n",
    "from rdkit import Chem\n",
    "from rdkit.Chem import PandasTools,AllChem,Descriptors,Draw \n",
    "from rdkit.Chem.Draw import IPythonConsole\n",
    "from mordred import Calculator,descriptors"
   ]
  },
  {
   "cell_type": "code",
   "execution_count": null,
   "id": "b9f151bc",
   "metadata": {
    "scrolled": false
   },
   "outputs": [],
   "source": [
    "data = pd.read_excel('012D.xlsx')\n",
    "PandasTools.AddMoleculeColumnToFrame(data,smilesCol='SMILE')\n",
    "data"
   ]
  },
  {
   "cell_type": "code",
   "execution_count": null,
   "id": "53b34b77",
   "metadata": {},
   "outputs": [],
   "source": [
    "##保存\n",
    "data.to_excel('012D_ROMol.xlsx')"
   ]
  },
  {
   "cell_type": "code",
   "execution_count": null,
   "id": "744b6677",
   "metadata": {
    "scrolled": true
   },
   "outputs": [],
   "source": [
    "for i,j in Descriptors.descList:\n",
    "    data[i] = data.ROMol.map(j)\n",
    "print(data.shape)"
   ]
  },
  {
   "cell_type": "code",
   "execution_count": null,
   "id": "1c9a1c2c",
   "metadata": {},
   "outputs": [],
   "source": [
    "data.to_excel('012D_Rdkit.xlsx')"
   ]
  },
  {
   "cell_type": "code",
   "execution_count": null,
   "id": "dc4e007d",
   "metadata": {},
   "outputs": [],
   "source": [
    "calc = Calculator(descriptors,ignore_3D=True)\n",
    "df = pd.read_excel('012D.xlsx')\n",
    "mols = [Chem.MolFromSmiles(smi) for smi in df['SMILE']]\n",
    "for i in range(0,150):\n",
    "    mols[i] = AllChem.AddHs(mols[i])\n",
    "    AllChem.EmbedMolecule(mols[i])\n",
    "    AllChem.MMFFOptimizeMolecule(mols[i])\n",
    "df = calc.pandas(mols)\n",
    "df.head(5)"
   ]
  },
  {
   "cell_type": "code",
   "execution_count": null,
   "id": "c65c78c4",
   "metadata": {},
   "outputs": [],
   "source": [
    "df.to_excel('012D_Mordred.xlsx')"
   ]
  },
  {
   "cell_type": "code",
   "execution_count": null,
   "id": "2509f007",
   "metadata": {},
   "outputs": [],
   "source": []
  },
  {
   "cell_type": "code",
   "execution_count": null,
   "id": "0426b2f8",
   "metadata": {},
   "outputs": [],
   "source": []
  },
  {
   "cell_type": "code",
   "execution_count": null,
   "id": "fea0086e",
   "metadata": {},
   "outputs": [],
   "source": []
  },
  {
   "cell_type": "code",
   "execution_count": null,
   "id": "4eed8d53",
   "metadata": {},
   "outputs": [],
   "source": []
  },
  {
   "cell_type": "code",
   "execution_count": null,
   "id": "d90f2c1b",
   "metadata": {},
   "outputs": [],
   "source": []
  },
  {
   "cell_type": "code",
   "execution_count": null,
   "id": "184369c7",
   "metadata": {},
   "outputs": [],
   "source": []
  },
  {
   "cell_type": "code",
   "execution_count": null,
   "id": "ebd6dd85",
   "metadata": {},
   "outputs": [],
   "source": []
  }
 ],
 "metadata": {
  "kernelspec": {
   "display_name": "Python 3 (ipykernel)",
   "language": "python",
   "name": "python3"
  },
  "language_info": {
   "codemirror_mode": {
    "name": "ipython",
    "version": 3
   },
   "file_extension": ".py",
   "mimetype": "text/x-python",
   "name": "python",
   "nbconvert_exporter": "python",
   "pygments_lexer": "ipython3",
   "version": "3.9.7"
  },
  "toc": {
   "base_numbering": 1,
   "nav_menu": {},
   "number_sections": true,
   "sideBar": true,
   "skip_h1_title": false,
   "title_cell": "Table of Contents",
   "title_sidebar": "Contents",
   "toc_cell": false,
   "toc_position": {
    "height": "calc(100% - 180px)",
    "left": "10px",
    "top": "150px",
    "width": "256px"
   },
   "toc_section_display": true,
   "toc_window_display": true
  }
 },
 "nbformat": 4,
 "nbformat_minor": 5
}
