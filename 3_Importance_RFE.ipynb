{
 "cells": [
  {
   "cell_type": "code",
   "execution_count": null,
   "id": "02518f10",
   "metadata": {},
   "outputs": [],
   "source": [
    "import pandas as pd\n",
    "import numpy as np\n",
    "\n",
    "# 多行输出\n",
    "#from IPython.core.interactiveshell import InteractiveShell\n",
    "#InteractiveShell.ast_node_interactivity = \"all\""
   ]
  },
  {
   "cell_type": "code",
   "execution_count": null,
   "id": "4cb224f3",
   "metadata": {
    "scrolled": false
   },
   "outputs": [],
   "source": [
    "data = pd.read_excel('V3_1168.xlsx')\n",
    "data.head(5)"
   ]
  },
  {
   "cell_type": "code",
   "execution_count": null,
   "id": "c4be6727",
   "metadata": {
    "scrolled": true
   },
   "outputs": [],
   "source": [
    "data.info()"
   ]
  },
  {
   "cell_type": "code",
   "execution_count": null,
   "id": "76497abe",
   "metadata": {},
   "outputs": [],
   "source": [
    "# https://blog.csdn.net/zhengrong9/article/details/111993678\n",
    "# 删除表格中取值全部相同的列:判断标准差是否为0，为0表示该列值全部相同;\n",
    "data.drop(data.columns[data.std() == 0], axis=1, inplace=True)\n",
    "data.shape"
   ]
  },
  {
   "cell_type": "code",
   "execution_count": null,
   "id": "6a43202f",
   "metadata": {},
   "outputs": [],
   "source": [
    "data.to_excel('V3_1168.xlsx')"
   ]
  },
  {
   "cell_type": "code",
   "execution_count": null,
   "id": "1163ecc3",
   "metadata": {},
   "outputs": [],
   "source": [
    "non_float = []\n",
    "for col in data:\n",
    "    if data[col].dtypes!=\"int64\":\n",
    "        non_float.append(col)\n",
    "data_drop = data.drop(columns=non_float)\n",
    "data_drop.info()"
   ]
  },
  {
   "cell_type": "code",
   "execution_count": null,
   "id": "ec687a65",
   "metadata": {},
   "outputs": [],
   "source": [
    "data_drop.to_excel('Yint.xlsx')"
   ]
  },
  {
   "cell_type": "code",
   "execution_count": null,
   "id": "221fd506",
   "metadata": {},
   "outputs": [],
   "source": [
    "from sklearn.svm import SVC\n",
    "from sklearn.ensemble import RandomForestClassifier\n",
    "from sklearn.feature_selection import RFE\n",
    "from sklearn.preprocessing import StandardScaler,MinMaxScaler,Normalizer"
   ]
  },
  {
   "cell_type": "code",
   "execution_count": null,
   "id": "3b68fa95",
   "metadata": {},
   "outputs": [],
   "source": [
    "data = pd.read_excel('V3_1168.xlsx')\n",
    "data.shape"
   ]
  },
  {
   "cell_type": "code",
   "execution_count": null,
   "id": "e3ae1c2b",
   "metadata": {
    "scrolled": true
   },
   "outputs": [],
   "source": [
    "data.head(5)"
   ]
  },
  {
   "cell_type": "code",
   "execution_count": null,
   "id": "41af39d1",
   "metadata": {
    "scrolled": true
   },
   "outputs": [],
   "source": [
    "X = data.iloc[:,3:]\n",
    "y = data.iloc[:,2:3]\n",
    "X.head()"
   ]
  },
  {
   "cell_type": "code",
   "execution_count": null,
   "id": "f0adcc76",
   "metadata": {},
   "outputs": [],
   "source": [
    "# 进行RFE（Recursive feature elimination）计算-svm\n",
    "svc = SVC(kernel=\"linear\")\n",
    "rfe = RFE(estimator=svc,n_features_to_select=1120,step=1)\n",
    "rfe.fit(X,y)\n",
    "rfe.ranking_"
   ]
  },
  {
   "cell_type": "code",
   "execution_count": null,
   "id": "6cf630d6",
   "metadata": {},
   "outputs": [],
   "source": [
    "X_std = StandardScaler().fit_transform(X)\n",
    "X_nml = Normalizer().fit_transform(X_std)"
   ]
  },
  {
   "cell_type": "code",
   "execution_count": null,
   "id": "06933589",
   "metadata": {
    "scrolled": true
   },
   "outputs": [],
   "source": [
    "# 进行RFE（Recursive feature elimination）计算-RF\n",
    "# https://zhuanlan.zhihu.com/p/144847932\n",
    "RF = RandomForestClassifier()\n",
    "rfe = RFE(estimator=RF, n_features_to_select=1, step=1)\n",
    "rfe.fit(X,y)\n",
    "print(rfe.n_features_)  # 打印最优特征变量数\n",
    "print(rfe.support_)  # 打印选择的最优特征变量\n",
    "print(rfe.ranking_)  # 特征排序"
   ]
  },
  {
   "cell_type": "code",
   "execution_count": null,
   "id": "71aeda75",
   "metadata": {},
   "outputs": [],
   "source": [
    "rfe_DF = pd.DataFrame(rfe.ranking_)\n",
    "rfe_DF.to_excel('b.xlsx')"
   ]
  },
  {
   "cell_type": "code",
   "execution_count": null,
   "id": "c25d02e9",
   "metadata": {},
   "outputs": [],
   "source": []
  },
  {
   "cell_type": "code",
   "execution_count": null,
   "id": "4e3bd2f7",
   "metadata": {},
   "outputs": [],
   "source": [
    "import matplotlib.pyplot as plt\n",
    "from sklearn.svm import SVC\n",
    "from sklearn.model_selection import StratifiedKFold\n",
    "from sklearn.feature_selection import RFECV"
   ]
  },
  {
   "cell_type": "code",
   "execution_count": null,
   "id": "606d8741",
   "metadata": {},
   "outputs": [],
   "source": [
    "data = pd.read_excel('012D_V12_RFE_Oversampling0D.xlsx')"
   ]
  },
  {
   "cell_type": "code",
   "execution_count": null,
   "id": "26ebb7a4",
   "metadata": {
    "scrolled": false
   },
   "outputs": [],
   "source": [
    "data.head()"
   ]
  },
  {
   "cell_type": "code",
   "execution_count": null,
   "id": "28e6dd82",
   "metadata": {},
   "outputs": [],
   "source": [
    "X = data.iloc[:,3:]\n",
    "y = data.iloc[:,2:3]\n",
    "X.head()\n",
    "#print(X.shape)\n",
    "#print(y.shape)"
   ]
  },
  {
   "cell_type": "code",
   "execution_count": null,
   "id": "3379686b",
   "metadata": {
    "scrolled": true
   },
   "outputs": [],
   "source": [
    "# 创建分类器\n",
    "svc = SVC(kernel=\"linear\")\n",
    "rfecv = RFECV(estimator=svc, step=1, cv=StratifiedKFold(2),scoring='accuracy')\n",
    "rfecv.fit(X, y)\n",
    "print(\"RFEC挑选了几个特征 : %d\" % rfecv.n_features_)\n",
    "\n",
    "\n",
    "plt.figure()\n",
    "plt.xlabel(\"Number of features selected\")\n",
    "plt.ylabel(\"Cross validation score (nb of correct classifications)\")\n",
    "plt.plot(range(1,len(rfecv.grid_scores_)+1), rfecv.grid_scores_)\n",
    "plt.show()"
   ]
  },
  {
   "cell_type": "code",
   "execution_count": null,
   "id": "4b9d4689",
   "metadata": {},
   "outputs": [],
   "source": [
    "# 每个特征的得分排名，特征得分越低（1最好），表示特征越好\n",
    "# https://blog.csdn.net/LuohenYJ/article/details/107239001\n",
    "print(\"重要性排名：\",rfecv.ranking_)"
   ]
  },
  {
   "cell_type": "code",
   "execution_count": null,
   "id": "38ef667a",
   "metadata": {},
   "outputs": [],
   "source": [
    "#保存rfecv.ranking_排名\n",
    "c =  pd.DataFrame(np.array(rfecv.ranking_))\n",
    "c.to_excel('rfecv_ranking_3.xlsx')"
   ]
  },
  {
   "cell_type": "code",
   "execution_count": null,
   "id": "b47be688",
   "metadata": {},
   "outputs": [],
   "source": [
    "#得到dataframe的列名以list形式列出；\n",
    "#data.columns.values.tolist()\n",
    "#将list转化为array;\n",
    "a = np.array(data.columns.values.tolist())\n",
    "#将array转化为dataframe\n",
    "b = pd.DataFrame(a)\n",
    "#保存FeatureNames\n",
    "b.to_excel('rfecv_ranking_FeatureNames_3.xlsx')"
   ]
  },
  {
   "cell_type": "code",
   "execution_count": null,
   "id": "ada8d403",
   "metadata": {},
   "outputs": [],
   "source": [
    "#保存rfecv.grid_scores_得分\n",
    "rfecv.grid_scores_\n",
    "c = pd.DataFrame(rfecv.grid_scores_)\n",
    "c.to_excel('Figure2_RFEcvScore_vs_NumberofFeature_3.xlsx')"
   ]
  },
  {
   "cell_type": "code",
   "execution_count": null,
   "id": "99e1ee66",
   "metadata": {},
   "outputs": [],
   "source": []
  },
  {
   "cell_type": "code",
   "execution_count": null,
   "id": "638abed1",
   "metadata": {},
   "outputs": [],
   "source": []
  },
  {
   "cell_type": "code",
   "execution_count": null,
   "id": "b8860b43",
   "metadata": {},
   "outputs": [],
   "source": []
  }
 ],
 "metadata": {
  "kernelspec": {
   "display_name": "Python 3 (ipykernel)",
   "language": "python",
   "name": "python3"
  },
  "language_info": {
   "codemirror_mode": {
    "name": "ipython",
    "version": 3
   },
   "file_extension": ".py",
   "mimetype": "text/x-python",
   "name": "python",
   "nbconvert_exporter": "python",
   "pygments_lexer": "ipython3",
   "version": "3.9.7"
  },
  "toc": {
   "base_numbering": 1,
   "nav_menu": {},
   "number_sections": true,
   "sideBar": true,
   "skip_h1_title": false,
   "title_cell": "Table of Contents",
   "title_sidebar": "Contents",
   "toc_cell": false,
   "toc_position": {
    "height": "calc(100% - 180px)",
    "left": "10px",
    "top": "150px",
    "width": "294.4px"
   },
   "toc_section_display": true,
   "toc_window_display": true
  }
 },
 "nbformat": 4,
 "nbformat_minor": 5
}
