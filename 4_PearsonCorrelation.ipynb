{
 "cells": [
  {
   "cell_type": "code",
   "execution_count": null,
   "id": "68d65df6",
   "metadata": {},
   "outputs": [],
   "source": [
    "import pandas as pd\n",
    "import numpy as np\n",
    "import seaborn as sns\n",
    "import sklearn\n",
    "\n",
    "from sklearn.preprocessing import StandardScaler,MinMaxScaler,Normalizer\n",
    "from sklearn.model_selection import train_test_split"
   ]
  },
  {
   "cell_type": "code",
   "execution_count": null,
   "id": "ef0a71e9",
   "metadata": {
    "scrolled": true
   },
   "outputs": [],
   "source": [
    "data = pd.read_excel('V4_RFEranking.xlsx')\n",
    "data.head(3)"
   ]
  },
  {
   "cell_type": "code",
   "execution_count": null,
   "id": "38527f01",
   "metadata": {},
   "outputs": [],
   "source": [
    "X = data.iloc[:,3:8]\n",
    "Y = data.iloc[:,2:3]\n",
    "X.shape"
   ]
  },
  {
   "cell_type": "code",
   "execution_count": null,
   "id": "77b6b810",
   "metadata": {},
   "outputs": [],
   "source": [
    "Importance_corr = data.corr()['Dimensionality'].abs().sort_values(ascending=False)\n",
    "Importance_corr.to_excel('Figure3_XYcorr_PersImportance200.xlsx')"
   ]
  },
  {
   "cell_type": "code",
   "execution_count": null,
   "id": "a755dbb3",
   "metadata": {},
   "outputs": [],
   "source": [
    "#RFE排名前46的皮尔森重要性排序\n",
    "data2 = pd.read_excel('V4_50.xlsx')\n",
    "Importance_corr2 = data2.corr()['Dimensionality'].abs().sort_values(ascending=False)\n",
    "Importance_corr2.to_excel('Figure3-2_XYcorr_importance50.xlsx')"
   ]
  },
  {
   "cell_type": "code",
   "execution_count": null,
   "id": "7ca70ff1",
   "metadata": {},
   "outputs": [],
   "source": [
    "import matplotlib.pyplot as plt"
   ]
  },
  {
   "cell_type": "code",
   "execution_count": null,
   "id": "4a902b9f",
   "metadata": {},
   "outputs": [],
   "source": [
    "#前49个特征的相关性热图\n",
    "X_corr = round(X.corr().abs(),2)\n",
    "\n",
    "plt.figure(dpi=200)\n",
    "sns.set(font_scale=0.3)\n",
    "plt.rc('font',family='Arial')\n",
    "sns.heatmap(X_corr,cmap=\"Spectral_r\",annot=True,annot_kws={'size':2.5})\n",
    "plt.xticks(rotation=90)\n",
    "plt.savefig('Figure4_heatmapPersen50.png',dpi=2160,bbox_inches='tight')\n",
    "#plt.show()"
   ]
  },
  {
   "cell_type": "code",
   "execution_count": null,
   "id": "84038fcf",
   "metadata": {},
   "outputs": [],
   "source": [
    "#剔除掉相关性大于某一值的所有特征；\n",
    "X_corr2 = round(X.corr().abs(),2)\n",
    "correlated_features = set()  #满足某一相关性的高相关性特征集\n",
    "\n",
    "for i in range(len(X_corr2.columns)):\n",
    "    for j in range(i):\n",
    "        if abs(X_corr2.iloc[i,j])>0.8:\n",
    "            colname=X_corr2.columns[i]\n",
    "            correlated_features.add(colname)\n",
    "\n",
    "X.drop(labels=correlated_features,axis=1,inplace=True)  #剔除掉这些高相关性特征\n",
    "X.shape"
   ]
  },
  {
   "cell_type": "code",
   "execution_count": null,
   "id": "bbc7bebc",
   "metadata": {},
   "outputs": [],
   "source": [
    "X.to_excel('a.xlsx')"
   ]
  },
  {
   "cell_type": "code",
   "execution_count": null,
   "id": "aeccef75",
   "metadata": {},
   "outputs": [],
   "source": [
    "data2 = pd.concat([data.iloc[:,1:3],X],axis=1)\n",
    "#data_Xnml = pd.DataFrame(X_nml)\n",
    "data2.to_excel('V5_below.xlsx')"
   ]
  },
  {
   "cell_type": "code",
   "execution_count": null,
   "id": "65c36ef8",
   "metadata": {},
   "outputs": [],
   "source": [
    "X.to_excel('012D_X_PersenCorrbelow02.xlsx')"
   ]
  },
  {
   "cell_type": "code",
   "execution_count": null,
   "id": "5881fe19",
   "metadata": {},
   "outputs": [],
   "source": [
    "#删除完高相关性特征 的相关性热图\n",
    "#https://zhuanlan.zhihu.com/p/170572450\n",
    "X_corr = round(X.corr().abs(),2)\n",
    "#mask = np.zeros_like(X_corr,dtype=np.bool)   #定义一个大小一致全为零的矩阵  用布尔类型覆盖原来的类型\n",
    "#mask[np.triu_indices_from(mask)]= True      #返回矩阵的上三角，并将其设置为true\n",
    "plt.figure(dpi=200)\n",
    "sns.set(font_scale=1.2)\n",
    "plt.rc('font',family='Arial')\n",
    "sns.heatmap(X_corr,\n",
    "            #mask=mask,\n",
    "            cmap=\"GnBu\",\n",
    "            vmax=1,\n",
    "            annot=True,annot_kws={'size':16},\n",
    "            square=True,linewidths=0.5)\n",
    "plt.xticks(rotation=30)\n",
    "plt.yticks(rotation=0)\n",
    "plt.savefig('Figure5_heatmap_Xbelow06.png',dpi=2160,bbox_inches='tight')\n",
    "#plt.show()"
   ]
  },
  {
   "cell_type": "code",
   "execution_count": null,
   "id": "c64ea5e4",
   "metadata": {},
   "outputs": [],
   "source": [
    "a = np.random.rand(175)\n",
    "b = pd.DataFrame(a)\n",
    "b.to_excel('b.xlsx')"
   ]
  },
  {
   "cell_type": "code",
   "execution_count": null,
   "id": "0e4299ad",
   "metadata": {},
   "outputs": [],
   "source": [
    "data3 = pd.read_excel('012D_V7.xlsx')\n",
    "Importance_corr_random = data3.corr()['Dimensionality'].abs().sort_values(ascending=False)\n",
    "Importance_corr_random.to_excel('XYcorr_importance_random.xlsx')"
   ]
  },
  {
   "cell_type": "code",
   "execution_count": null,
   "id": "75ac8439",
   "metadata": {},
   "outputs": [],
   "source": []
  },
  {
   "cell_type": "code",
   "execution_count": null,
   "id": "22f9f33e",
   "metadata": {},
   "outputs": [],
   "source": []
  },
  {
   "cell_type": "code",
   "execution_count": null,
   "id": "7bfebe28",
   "metadata": {},
   "outputs": [],
   "source": []
  }
 ],
 "metadata": {
  "kernelspec": {
   "display_name": "Python 3 (ipykernel)",
   "language": "python",
   "name": "python3"
  },
  "language_info": {
   "codemirror_mode": {
    "name": "ipython",
    "version": 3
   },
   "file_extension": ".py",
   "mimetype": "text/x-python",
   "name": "python",
   "nbconvert_exporter": "python",
   "pygments_lexer": "ipython3",
   "version": "3.9.7"
  },
  "toc": {
   "base_numbering": 1,
   "nav_menu": {},
   "number_sections": true,
   "sideBar": true,
   "skip_h1_title": false,
   "title_cell": "Table of Contents",
   "title_sidebar": "Contents",
   "toc_cell": false,
   "toc_position": {},
   "toc_section_display": true,
   "toc_window_display": true
  }
 },
 "nbformat": 4,
 "nbformat_minor": 5
}
