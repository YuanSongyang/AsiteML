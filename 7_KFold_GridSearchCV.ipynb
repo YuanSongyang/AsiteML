{
 "cells": [
  {
   "cell_type": "code",
   "execution_count": null,
   "id": "06875d57",
   "metadata": {},
   "outputs": [],
   "source": [
    "import pandas as pd\n",
    "import numpy as np\n",
    "import sklearn\n",
    "\n",
    "from sklearn.linear_model import LogisticRegression,SGDClassifier \n",
    "from sklearn.neighbors import KNeighborsClassifier\n",
    "from sklearn.tree import DecisionTreeClassifier\n",
    "from sklearn.svm import SVC\n",
    "from sklearn.neural_network import MLPClassifier\n",
    "\n",
    "from sklearn.ensemble import RandomForestClassifier,AdaBoostClassifier,GradientBoostingClassifier\n",
    "from xgboost import XGBClassifier\n",
    "\n",
    "from sklearn.preprocessing import StandardScaler,MinMaxScaler,Normalizer\n",
    "from sklearn.model_selection import train_test_split,KFold,LeaveOneOut,cross_val_score,cross_validate,GridSearchCV\n",
    "from sklearn.metrics import accuracy_score,confusion_matrix\n",
    "\n",
    "import warnings\n",
    "warnings.filterwarnings(\"ignore\")"
   ]
  },
  {
   "cell_type": "code",
   "execution_count": null,
   "id": "f67a5fa8",
   "metadata": {},
   "outputs": [],
   "source": [
    "model_KNN = KNeighborsClassifier()\n",
    "model_LR = LogisticRegression()\n",
    "model_DT = DecisionTreeClassifier()\n",
    "model_SVM = SVC()\n",
    "\n",
    "model_MLP = MLPClassifier()\n",
    "model_SGD = SGDClassifier()\n",
    "model_RF = RandomForestClassifier()\n",
    "model_AB = AdaBoostClassifier()\n",
    "model_GB = GradientBoostingClassifier()"
   ]
  },
  {
   "cell_type": "code",
   "execution_count": null,
   "id": "95e34b72",
   "metadata": {},
   "outputs": [],
   "source": [
    "data = pd.read_excel('V5_RFEranking4.xlsx')"
   ]
  },
  {
   "cell_type": "code",
   "execution_count": null,
   "id": "539308f1",
   "metadata": {
    "scrolled": false
   },
   "outputs": [],
   "source": [
    "data.head(5)"
   ]
  },
  {
   "cell_type": "code",
   "execution_count": null,
   "id": "88dfafdc",
   "metadata": {
    "scrolled": true
   },
   "outputs": [],
   "source": [
    "X = data.iloc[:,3:]\n",
    "Y = data.iloc[:,2:3]\n",
    "X"
   ]
  },
  {
   "cell_type": "code",
   "execution_count": null,
   "id": "7a585c03",
   "metadata": {},
   "outputs": [],
   "source": [
    "X_std = StandardScaler().fit_transform(X)\n",
    "X_nml = Normalizer().fit_transform(X_std)"
   ]
  },
  {
   "cell_type": "code",
   "execution_count": null,
   "id": "7d001668",
   "metadata": {
    "scrolled": true
   },
   "outputs": [],
   "source": [
    "#这里边只有准确率可以用于多分类，其他三个只能用于二分类，所有其他三个没有参考价值\n",
    "KF_result = pd.DataFrame()\n",
    "model_list = [model_KNN,model_LR,model_DT,model_SVM,model_MLP,model_SGD,model_RF,model_AB,model_GB]\n",
    "\n",
    "for i,x in enumerate(model_list):\n",
    "    scores1= cross_val_score(x,X_nml,Y,cv=10,scoring='accuracy')\n",
    "    KF_result.loc[i,'accuracy_score'] = np.mean(scores1)\n",
    "KF_result.index = pd.Series(model_list)\n",
    "KF_result"
   ]
  },
  {
   "cell_type": "code",
   "execution_count": null,
   "id": "ede4bac6",
   "metadata": {},
   "outputs": [],
   "source": [
    "KF_result.to_excel('KF10_result_Former4Feature_No0DPbBr_Oversampling0D.xlsx')"
   ]
  },
  {
   "cell_type": "code",
   "execution_count": null,
   "id": "9db19d03",
   "metadata": {},
   "outputs": [],
   "source": [
    "x_train,x_test,y_train,y_test = train_test_split(X,Y,test_size=0.2,random_state=2)"
   ]
  },
  {
   "cell_type": "code",
   "execution_count": null,
   "id": "165a4b22",
   "metadata": {
    "scrolled": true
   },
   "outputs": [],
   "source": [
    "# model_RF调参\n",
    "params = {'n_estimators':[2,5,10,20,50],\n",
    "          'criterion':['gini','entropy'],\n",
    "          'max_depth':[None,1,5,10,20],\n",
    "          'min_samples_split':[1,2,5,10,20],\n",
    "          'min_samples_leaf':[1,2,3,4,5,10,20]\n",
    "         }\n",
    "clf = GridSearchCV(model_RF,param_grid=params,cv=5,scoring='accuracy')\n",
    "clf.fit(x_train,y_train)\n",
    "model_RF_best = clf.best_estimator_\n",
    "print(clf.best_params_)\n",
    "clf.best_score_"
   ]
  },
  {
   "cell_type": "code",
   "execution_count": null,
   "id": "c7235a21",
   "metadata": {},
   "outputs": [],
   "source": [
    "for i in range(2,50,2):\n",
    "    x_train,x_test,y_train,y_test = train_test_split(X,Y,test_size=0.2,random_state=i)\n",
    "    params = {'n_estimators':[2,5,10,20,50],\n",
    "          'criterion':['gini','entropy'],\n",
    "          'max_depth':[None,1,5,10,20],\n",
    "          'min_samples_split':[1,2,5,10,20],\n",
    "          'min_samples_leaf':[1,2,3,4,5,10,20]\n",
    "         }\n",
    "    clf = GridSearchCV(model_RF,param_grid=params,cv=5,scoring='accuracy')\n",
    "    clf.fit(x_train,y_train)\n",
    "    model_RF_best = clf.best_estimator_\n",
    "    print(\"random_state= \",i)\n",
    "    print(clf.best_params_)\n",
    "    print(clf.best_score_)"
   ]
  },
  {
   "cell_type": "code",
   "execution_count": null,
   "id": "5ed5929c",
   "metadata": {},
   "outputs": [],
   "source": [
    "#字典转数组保存\n",
    "result = clf.best_params_.items()\n",
    "data = list(result)\n",
    "numpyArray = np.array(data)\n",
    "nA = pd.DataFrame(numpyArray)\n",
    "nA.to_excel('bestRF_Former4Feature.xlsx')\n"
   ]
  },
  {
   "cell_type": "code",
   "execution_count": null,
   "id": "13f112d2",
   "metadata": {},
   "outputs": [],
   "source": [
    "best_RF = pd.DataFrame()\n",
    "for i in range(1,51):\n",
    "    x_train,x_test,y_train,y_test = train_test_split(X,Y,test_size=0.2,random_state=i)\n",
    "    y_pred = model_RF_best.predict(x_test)\n",
    "    acc_score = accuracy_score(y_test,y_pred)\n",
    "    best_RF.loc[i,'acc_score_RF'] = acc_score\n",
    "    #print(acc_score)\n",
    "best_RF"
   ]
  },
  {
   "cell_type": "code",
   "execution_count": null,
   "id": "3207ea8e",
   "metadata": {},
   "outputs": [],
   "source": [
    "best_RF.to_excel('bestRF_Former4Feature_No0DPbBr_Oversampling0D.xlsx')"
   ]
  },
  {
   "cell_type": "code",
   "execution_count": null,
   "id": "39248025",
   "metadata": {},
   "outputs": [],
   "source": [
    "# model_LR调参 https://zhuanlan.zhihu.com/p/55438631\n",
    "params = {'C':[0.0001, 1, 100, 1000],\n",
    "          'max_iter':[1, 10, 100, 500],\n",
    "          'class_weight':['balanced', None],\n",
    "          'solver':['liblinear','sag','lbfgs','newton-cg']\n",
    "         }\n",
    "clf = GridSearchCV(model_LR,param_grid=params,cv=5,scoring='accuracy')\n",
    "clf.fit(x_train,y_train)\n",
    "model_LR_best = clf.best_estimator_\n",
    "print(clf.best_params_)\n",
    "clf.best_score_"
   ]
  },
  {
   "cell_type": "code",
   "execution_count": null,
   "id": "30b1ac1b",
   "metadata": {},
   "outputs": [],
   "source": [
    "best_LR = pd.DataFrame()\n",
    "for i in range(1,51):\n",
    "    x_train,x_test,y_train,y_test = train_test_split(X_nml,Y,test_size=0.2,random_state=i)\n",
    "    y_pred = model_LR_best.predict(x_test)\n",
    "    acc_score = accuracy_score(y_test,y_pred)\n",
    "    best_LR.loc[i,'acc_score_LR'] = acc_score\n",
    "    #print(acc_score)\n",
    "best_LR"
   ]
  },
  {
   "cell_type": "code",
   "execution_count": null,
   "id": "5e902bc6",
   "metadata": {},
   "outputs": [],
   "source": [
    "best_LR.to_excel('bestLR_Former4Feature_No0DPbBr_Oversampling0D.xlsx')"
   ]
  },
  {
   "cell_type": "code",
   "execution_count": null,
   "id": "b388bcfd",
   "metadata": {},
   "outputs": [],
   "source": [
    "# model_SVM调参 https://zhuanlan.zhihu.com/p/55438631\n",
    "params = {'C': [0.001,0.01,0.1,1,10], \n",
    "          'degree': [3,2,1],\n",
    "          'kernel': ['linear','poly''rbf','sigmoid'], \n",
    "          'max_iter': [1,2,5,10,20,50,-1], \n",
    "          'probability': [True,False], \n",
    "          'shrinking': [True,False],  \n",
    "          'tol': [1e-1,1e-2,1e-3,1e-4,1e-5]\n",
    "         }\n",
    "clf = GridSearchCV(model_SVM,param_grid=params,cv=5,scoring='accuracy')\n",
    "clf.fit(x_train,y_train)\n",
    "model_SVM_best = clf.best_estimator_\n",
    "print(clf.best_params_)\n",
    "clf.best_score_"
   ]
  },
  {
   "cell_type": "code",
   "execution_count": null,
   "id": "107d15dd",
   "metadata": {},
   "outputs": [],
   "source": [
    "best_SVM = pd.DataFrame()\n",
    "for i in range(1,51):\n",
    "    x_train,x_test,y_train,y_test = train_test_split(X_nml,Y,test_size=0.2,random_state=i)\n",
    "    y_pred = model_SVM_best.predict(x_test)\n",
    "    acc_score = accuracy_score(y_test,y_pred)\n",
    "    best_SVM.loc[i,'acc_score_SVM'] = acc_score\n",
    "    #print(acc_score)\n",
    "best_SVM"
   ]
  },
  {
   "cell_type": "code",
   "execution_count": null,
   "id": "58cec01f",
   "metadata": {},
   "outputs": [],
   "source": [
    "# model_SGD调参  https://zhuanlan.zhihu.com/p/55438631\n",
    "params = {'loss': ['hinge','log','modified_huber','squared_hinge','perceptron','huber','epsilon_insensitive','squared_epsilon_insensitive'], \n",
    "          'penalty': ['l1'],\n",
    "          'alpha': [0.1], \n",
    "          'l1_ratio': [0.05],\n",
    "          'fit_intercept': [True,False], \n",
    "          'max_iter': [1,2,5,10,50,100],  \n",
    "          'tol': [1e-2],\n",
    "          'shuffle': [True,False],\n",
    "          'verbose': [0,0.0001,0.001,0.01,0.1,1,2,5,10,20,50],\n",
    "          'epsilon': [0,0.0001,0.001,0.01,0.1,1,2,5],\n",
    "         }\n",
    "clf = GridSearchCV(model_SGD,param_grid=params,cv=5,scoring='accuracy')\n",
    "clf.fit(x_train,y_train)\n",
    "model_SGD_best = clf.best_estimator_\n",
    "print(clf.best_params_)\n",
    "clf.best_score_"
   ]
  },
  {
   "cell_type": "code",
   "execution_count": null,
   "id": "a2f1c6d0",
   "metadata": {},
   "outputs": [],
   "source": []
  },
  {
   "cell_type": "code",
   "execution_count": null,
   "id": "d71cee6e",
   "metadata": {},
   "outputs": [],
   "source": [
    "# model_RF调参\n",
    "for i in range(1,51):\n",
    "    x_train,x_test,y_train,y_test = train_test_split(X_nml,Y,test_size=0.2,random_state=i)\n",
    "    params = {'n_estimators':[2,5,10,20,50],\n",
    "          'criterion':['gini','entropy'],\n",
    "          'max_depth':[None,1,5,10,20],\n",
    "          'min_samples_split':[1,2,5,10,20],\n",
    "          'min_samples_leaf':[1,2,3,4,5,10,20]\n",
    "         }\n",
    "    clf = GridSearchCV(model_RF,param_grid=params,cv=5,scoring='accuracy')\n",
    "    clf.fit(x_train,y_train)\n",
    "    model_RF_best = clf.best_estimator_\n",
    "    print('random_state=',i,clf.best_params_)\n",
    "    print('best_score_',i,clf.best_score_)\n",
    "    \n",
    "    \n",
    "    \n",
    "    \n",
    "#     y_pred = model_LR_best.predict(x_test)\n",
    "#     acc_score = accuracy_score(y_test,y_pred)\n",
    "#     best_LR.loc[i,'acc_score_LR'] = acc_score\n",
    "#     #print(acc_score)\n",
    "# best_LR"
   ]
  },
  {
   "cell_type": "code",
   "execution_count": null,
   "id": "264225b4",
   "metadata": {
    "scrolled": true
   },
   "outputs": [],
   "source": [
    "# model_LR调参\n",
    "for i in range(1,51):\n",
    "    x_train,x_test,y_train,y_test = train_test_split(X_nml,Y,test_size=0.2,random_state=i)\n",
    "    params = {'C':[0.0001, 0.01,1,100, 1000],\n",
    "          'max_iter':[1, 10,50, 100, 500],\n",
    "          'class_weight':['balanced', None],\n",
    "          'solver':['liblinear','sag','lbfgs','newton-cg']\n",
    "         }\n",
    "    clf = GridSearchCV(model_LR,param_grid=params,cv=5,scoring='accuracy')\n",
    "    clf.fit(x_train,y_train)\n",
    "    model_LR_best = clf.best_estimator_\n",
    "    print('random_state=',i,clf.best_params_)\n",
    "    print('best_score_=',i,clf.best_score_)"
   ]
  },
  {
   "cell_type": "code",
   "execution_count": null,
   "id": "6547f3e9",
   "metadata": {},
   "outputs": [],
   "source": [
    "for i in range(2,50,2):\n",
    "    x_train,x_test,y_train,y_test = train_test_split(X,Y,test_size=0.2,random_state=i)\n",
    "    params = {'n_estimators':[2,5,10,20,50],\n",
    "          'criterion':['gini','entropy'],\n",
    "          'max_depth':[None,1,5,10,20],\n",
    "          'min_samples_split':[1,2,5,10,20],\n",
    "          'min_samples_leaf':[1,2,3,4,5,10,20]\n",
    "         }\n",
    "    clf = GridSearchCV(model_RF,param_grid=params,cv=5,scoring='accuracy')\n",
    "    clf.fit(x_train,y_train)\n",
    "    model_RF_best = clf.best_estimator_\n",
    "    print(\"random_state= \",i)\n",
    "    print(clf.best_params_)\n",
    "    print(clf.best_score_)"
   ]
  },
  {
   "cell_type": "code",
   "execution_count": null,
   "id": "6078e2ec",
   "metadata": {},
   "outputs": [],
   "source": [
    "# model_DT调参； 不用一步一步算了；  https://zhuanlan.zhihu.com/p/55438631\n",
    "# 调参：https://blog.csdn.net/VariableX/article/details/107188730\n",
    "for i in range(2,50,2):\n",
    "    x_train,x_test,y_train,y_test = train_test_split(X,Y,test_size=0.2,random_state=i)    \n",
    "    params = {'criterion': ['entropy','gini'],\n",
    "          # 'criterion': ['gini'],\n",
    "         'splitter': ['best','random'],\n",
    "          # 'splitter': ['random'],\n",
    "         # 'max_features': [None],\n",
    "          'max_features': [None,'log2','sqrt','auto'],\n",
    "          'max_depth':[3,5,8,10,20,30,50,None],\n",
    "         # 'max_depth':[None],\n",
    "         'min_samples_leaf':[1,2,5,10],\n",
    "         'min_samples_split':[1,2,5,10,15,100],\n",
    "          'class_weight':[None,'balanced'],\n",
    "         }\n",
    "    clf = GridSearchCV(model_DT,param_grid=params,cv=5,scoring='accuracy')\n",
    "    clf.fit(x_train,y_train)\n",
    "    model_DT_best = clf.best_estimator_\n",
    "    print(\"random_state= \",i)\n",
    "    print(clf.best_params_)\n",
    "    print(clf.best_score_)"
   ]
  },
  {
   "cell_type": "code",
   "execution_count": null,
   "id": "69c975b8",
   "metadata": {},
   "outputs": [],
   "source": []
  }
 ],
 "metadata": {
  "kernelspec": {
   "display_name": "Python 3 (ipykernel)",
   "language": "python",
   "name": "python3"
  },
  "language_info": {
   "codemirror_mode": {
    "name": "ipython",
    "version": 3
   },
   "file_extension": ".py",
   "mimetype": "text/x-python",
   "name": "python",
   "nbconvert_exporter": "python",
   "pygments_lexer": "ipython3",
   "version": "3.9.7"
  },
  "toc": {
   "base_numbering": 1,
   "nav_menu": {},
   "number_sections": true,
   "sideBar": true,
   "skip_h1_title": false,
   "title_cell": "Table of Contents",
   "title_sidebar": "Contents",
   "toc_cell": false,
   "toc_position": {},
   "toc_section_display": true,
   "toc_window_display": true
  }
 },
 "nbformat": 4,
 "nbformat_minor": 5
}
