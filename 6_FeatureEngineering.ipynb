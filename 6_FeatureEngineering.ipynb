{
 "cells": [
  {
   "cell_type": "code",
   "execution_count": null,
   "id": "163129d1",
   "metadata": {},
   "outputs": [],
   "source": [
    "import numpy as np\n",
    "import pandas as pd\n",
    "import seaborn as sns\n",
    "import matplotlib.pyplot as plt\n",
    "from sklearn.preprocessing import StandardScaler,MinMaxScaler,Normalizer\n",
    "from sklearn.model_selection import train_test_split"
   ]
  },
  {
   "cell_type": "code",
   "execution_count": null,
   "id": "b01eeeb7",
   "metadata": {},
   "outputs": [],
   "source": [
    "data = pd.read_excel('V7_data_Xnml.xlsx')\n",
    "print(data.shape)\n",
    "print(data.info())\n",
    "data"
   ]
  },
  {
   "cell_type": "code",
   "execution_count": null,
   "id": "9f7e9512",
   "metadata": {},
   "outputs": [],
   "source": [
    "# https://blog.csdn.net/weixin_38168620/article/details/79596798\n",
    "np.sum(data.isnull())\n",
    "data = data.dropna(how = 'any',axis=1) #当一列全部为NA时，滤除这一列；\n",
    "print(data.shape)\n",
    "data.head()"
   ]
  },
  {
   "cell_type": "code",
   "execution_count": null,
   "id": "6990c0f0",
   "metadata": {},
   "outputs": [],
   "source": [
    "# https://blog.csdn.net/zhengrong9/article/details/111993678\n",
    "# 删除表格中取值全部相同的列:判断标准差是否为0，为0表示该列值全部相同;\n",
    "data.drop(data.columns[data.std() == 0], axis=1, inplace=True)\n",
    "data.shape"
   ]
  },
  {
   "cell_type": "code",
   "execution_count": null,
   "id": "f24026ed",
   "metadata": {},
   "outputs": [],
   "source": [
    "X = data.iloc[:,3:]\n",
    "Y = data.iloc[:,2:3]\n",
    "X"
   ]
  },
  {
   "cell_type": "code",
   "execution_count": null,
   "id": "a5e33898",
   "metadata": {},
   "outputs": [],
   "source": [
    "X.to_excel('X.xlsx')"
   ]
  },
  {
   "cell_type": "code",
   "execution_count": null,
   "id": "63f987ad",
   "metadata": {},
   "outputs": [],
   "source": [
    "X_std = StandardScaler().fit_transform(X)\n",
    "X_nml = Normalizer().fit_transform(X_std)\n",
    "X_nml_df = pd.DataFrame(X_nml)"
   ]
  },
  {
   "cell_type": "code",
   "execution_count": null,
   "id": "935d7b1c",
   "metadata": {},
   "outputs": [],
   "source": [
    "X_nml"
   ]
  },
  {
   "cell_type": "code",
   "execution_count": null,
   "id": "0b2852e5",
   "metadata": {},
   "outputs": [],
   "source": [
    "#DF连接在一起\n",
    "data2 = pd.concat([data.iloc[:,1:3],X_nml_df],axis=1)\n",
    "#data_Xnml = pd.DataFrame(X_nml)\n",
    "data2.to_excel('V7_data_Xnml.xlsx')"
   ]
  },
  {
   "cell_type": "code",
   "execution_count": null,
   "id": "cbf680ff",
   "metadata": {},
   "outputs": [],
   "source": [
    "X_corr = round(X.corr().abs(),2)\n",
    "correlated_features = set()  #满足某一相关性的高相关性特征集\n",
    "\n",
    "for i in range(len(X_corr.columns)):\n",
    "    for j in range(i):\n",
    "        if abs(X_corr.iloc[i,j])>0.8:\n",
    "            colname=X_corr.columns[i]\n",
    "            correlated_features.add(colname)\n",
    "\n",
    "X.drop(labels=correlated_features,axis=1,inplace=True)  #剔除掉这些高相关性特征\n",
    "X.shape"
   ]
  },
  {
   "cell_type": "code",
   "execution_count": null,
   "id": "f420122c",
   "metadata": {},
   "outputs": [],
   "source": [
    "#合并两个dataFrame \n",
    "#https://zhuanlan.zhihu.com/p/242481323\n",
    "data2 = pd.concat([data['Dimensionality'],X],axis=1)\n",
    "data2"
   ]
  },
  {
   "cell_type": "code",
   "execution_count": null,
   "id": "67367f1f",
   "metadata": {},
   "outputs": [],
   "source": [
    "Importance_corr = data.corr()['Dimensionality'].abs().sort_values(ascending=False)\n",
    "Importance_corr.to_excel('Figure3_XYcorr_PersImportanceA11.xlsx')"
   ]
  },
  {
   "cell_type": "code",
   "execution_count": null,
   "id": "ff548704",
   "metadata": {},
   "outputs": [],
   "source": []
  },
  {
   "cell_type": "code",
   "execution_count": null,
   "id": "06d23281",
   "metadata": {},
   "outputs": [],
   "source": []
  },
  {
   "cell_type": "code",
   "execution_count": null,
   "id": "60935f5e",
   "metadata": {},
   "outputs": [],
   "source": []
  },
  {
   "cell_type": "code",
   "execution_count": null,
   "id": "68a3ea48",
   "metadata": {},
   "outputs": [],
   "source": []
  }
 ],
 "metadata": {
  "kernelspec": {
   "display_name": "Python 3 (ipykernel)",
   "language": "python",
   "name": "python3"
  },
  "language_info": {
   "codemirror_mode": {
    "name": "ipython",
    "version": 3
   },
   "file_extension": ".py",
   "mimetype": "text/x-python",
   "name": "python",
   "nbconvert_exporter": "python",
   "pygments_lexer": "ipython3",
   "version": "3.9.7"
  },
  "toc": {
   "base_numbering": 1,
   "nav_menu": {},
   "number_sections": true,
   "sideBar": true,
   "skip_h1_title": false,
   "title_cell": "Table of Contents",
   "title_sidebar": "Contents",
   "toc_cell": false,
   "toc_position": {},
   "toc_section_display": true,
   "toc_window_display": false
  }
 },
 "nbformat": 4,
 "nbformat_minor": 5
}
