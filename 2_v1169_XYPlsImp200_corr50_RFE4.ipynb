{
 "cells": [
  {
   "cell_type": "code",
   "execution_count": null,
   "id": "7cf531c3",
   "metadata": {},
   "outputs": [],
   "source": [
    "import pandas as pd\n",
    "import numpy as np\n",
    "import matplotlib.pyplot as plt\n",
    "import seaborn as sns\n",
    "\n",
    "from matplotlib.pyplot import MultipleLocator\n",
    "from sklearn.feature_selection import RFE\n",
    "from sklearn.preprocessing import StandardScaler,MinMaxScaler,Normalizer\n",
    "from sklearn.model_selection import train_test_split\n",
    "from sklearn.ensemble import RandomForestClassifier\n",
    "from sklearn.model_selection import StratifiedKFold\n",
    "from sklearn.feature_selection import RFECV\n",
    "from sklearn.metrics import confusion_matrix"
   ]
  },
  {
   "cell_type": "code",
   "execution_count": null,
   "id": "ff639cdb",
   "metadata": {},
   "outputs": [],
   "source": [
    "data = pd.read_excel('V8_RFE6_ranked.xlsx')\n",
    "data.head()"
   ]
  },
  {
   "cell_type": "code",
   "execution_count": null,
   "id": "2af05f68",
   "metadata": {},
   "outputs": [],
   "source": [
    "data2 = data.drop(labels=['Unnamed: 0','序号'],axis=1)\n",
    "Importance_corr = data2.corr()['Dimensionality'].abs().sort_values(ascending=False)\n",
    "Importance_corr.to_excel('2_XYPlsenImp200.xlsx')"
   ]
  },
  {
   "cell_type": "code",
   "execution_count": null,
   "id": "79477d21",
   "metadata": {},
   "outputs": [],
   "source": [
    "data3 = pd.read_excel('V4_XYPlsImp200.xlsx')\n",
    "data3.head()"
   ]
  },
  {
   "cell_type": "code",
   "execution_count": null,
   "id": "b0869cf7",
   "metadata": {},
   "outputs": [],
   "source": [
    "X = data3.iloc[:,3:]\n",
    "Y = data3.iloc[:,2:3]\n",
    "X.shape"
   ]
  },
  {
   "cell_type": "code",
   "execution_count": null,
   "id": "5c12329a",
   "metadata": {},
   "outputs": [],
   "source": [
    "#剔除掉相关性大于某一值的所有特征；\n",
    "X_corr2 = round(X.corr().abs(),2)\n",
    "correlated_features = set()  #满足某一相关性的高相关性特征集\n",
    "\n",
    "for i in range(len(X_corr2.columns)):\n",
    "    for j in range(i):\n",
    "        if abs(X_corr2.iloc[i,j])>0.8:\n",
    "            colname=X_corr2.columns[i]\n",
    "            correlated_features.add(colname)\n",
    "\n",
    "X.drop(labels=correlated_features,axis=1,inplace=True)  #剔除掉这些高相关性特征\n",
    "X.shape"
   ]
  },
  {
   "cell_type": "code",
   "execution_count": null,
   "id": "7070ef39",
   "metadata": {
    "scrolled": true
   },
   "outputs": [],
   "source": [
    "X.head()"
   ]
  },
  {
   "cell_type": "code",
   "execution_count": null,
   "id": "954dedb8",
   "metadata": {},
   "outputs": [],
   "source": [
    "X.to_excel('X.xlsx')"
   ]
  },
  {
   "cell_type": "code",
   "execution_count": null,
   "id": "320a348b",
   "metadata": {},
   "outputs": [],
   "source": [
    "data4 = pd.concat([data3.iloc[:,1:3],X],axis=1)\n",
    "#data_Xnml = pd.DataFrame(X_nml)\n",
    "data4.to_excel('V12_below08_.xlsx')"
   ]
  },
  {
   "cell_type": "code",
   "execution_count": null,
   "id": "44af1ecd",
   "metadata": {},
   "outputs": [],
   "source": [
    "data5 = pd.read_excel('V8_RFE6_ranked.xlsx')\n",
    "data5.head()"
   ]
  },
  {
   "cell_type": "code",
   "execution_count": null,
   "id": "03b32d19",
   "metadata": {
    "scrolled": true
   },
   "outputs": [],
   "source": [
    "X = data5.iloc[:,3:]\n",
    "y = data5.iloc[:,2:3]\n",
    "X.head()"
   ]
  },
  {
   "cell_type": "code",
   "execution_count": null,
   "id": "25925114",
   "metadata": {},
   "outputs": [],
   "source": [
    "#前41个特征的相关性热图\n",
    "X_corr = round(X.corr().abs(),2)\n",
    "\n",
    "plt.figure(dpi=200)\n",
    "sns.set(font_scale=1.2)\n",
    "plt.rc('font',family='Arial')\n",
    "sns.heatmap(X_corr,cmap=\"GnBu\",\n",
    "            annot=True,annot_kws={'size':14},\n",
    "           vmax=1,\n",
    "           linewidths=1)\n",
    "plt.xticks(rotation=90)\n",
    "plt.savefig('Figure7_heatmapPersen6.png',dpi=2160,bbox_inches='tight')\n",
    "#plt.show()"
   ]
  },
  {
   "cell_type": "code",
   "execution_count": null,
   "id": "164238c2",
   "metadata": {},
   "outputs": [],
   "source": [
    "# 进行RFE（Recursive feature elimination）计算-RF\n",
    "# https://zhuanlan.zhihu.com/p/144847932\n",
    "RF = RandomForestClassifier()\n",
    "rfe = RFE(estimator=RF, n_features_to_select=1, step=1)\n",
    "rfe.fit(X,y)\n",
    "print(rfe.n_features_)  # 打印最优特征变量数\n",
    "print(rfe.support_)  # 打印选择的最优特征变量\n",
    "print(rfe.ranking_)  # 特征排序"
   ]
  },
  {
   "cell_type": "code",
   "execution_count": null,
   "id": "4a834f5f",
   "metadata": {},
   "outputs": [],
   "source": [
    "rfe_DF = pd.DataFrame(rfe.ranking_)\n",
    "rfe_DF.to_excel('Figure3_RFEranking10.xlsx')"
   ]
  },
  {
   "cell_type": "code",
   "execution_count": null,
   "id": "282dbd70",
   "metadata": {
    "scrolled": true
   },
   "outputs": [],
   "source": [
    "data_rfecv = pd.read_excel('V7_RFE6.xlsx')\n",
    "data_rfecv.head()"
   ]
  },
  {
   "cell_type": "code",
   "execution_count": null,
   "id": "148086f9",
   "metadata": {},
   "outputs": [],
   "source": [
    "X = data_rfecv.iloc[:,3:]\n",
    "y = data_rfecv.iloc[:,2:3]\n",
    "X.head()"
   ]
  },
  {
   "cell_type": "code",
   "execution_count": null,
   "id": "a80dfaa8",
   "metadata": {},
   "outputs": [],
   "source": [
    "# 进行RFE（Recursive feature elimination）计算-RF\n",
    "# https://zhuanlan.zhihu.com/p/144847932\n",
    "RF = RandomForestClassifier()\n",
    "rfe = RFE(estimator=RF, n_features_to_select=1, step=1)\n",
    "rfe.fit(X,y)\n",
    "print(rfe.n_features_)  # 打印最优特征变量数\n",
    "print(rfe.support_)  # 打印选择的最优特征变量\n",
    "print(rfe.ranking_)  # 特征排序"
   ]
  },
  {
   "cell_type": "code",
   "execution_count": null,
   "id": "47b02fd1",
   "metadata": {},
   "outputs": [],
   "source": [
    "c = pd.DataFrame(rfe.ranking_)\n",
    "c.to_excel('Figure6_RFE6ranking.xlsx')"
   ]
  },
  {
   "cell_type": "code",
   "execution_count": null,
   "id": "61c971ba",
   "metadata": {},
   "outputs": [],
   "source": [
    "# RFEcv_RF分类器\n",
    "RF = RandomForestClassifier()\n",
    "rfecv = RFECV(estimator=RF, step=1, cv=StratifiedKFold(2),scoring='accuracy')\n",
    "rfecv.fit(X, y)\n",
    "print(\"RFEC挑选了几个特征 : %d\" % rfecv.n_features_)\n",
    "print(\"重要性排名：\",rfecv.ranking_)\n",
    "print(\"最优特征变量:\",rfecv.support_)  # 打印选择的最优特征变量\n",
    "print(\"rfecv.grid_scores：\",rfecv.grid_scores_)\n",
    "\n",
    "plt.figure(dpi=800)\n",
    "plt.xlabel(\"Number of features selected\")\n",
    "plt.ylabel(\"Cross validation score (nb of correct classifications)\")\n",
    "plt.plot(range(1,len(rfecv.grid_scores_)+1), rfecv.grid_scores_)\n",
    "plt.show()"
   ]
  },
  {
   "cell_type": "code",
   "execution_count": null,
   "id": "03d81ef1",
   "metadata": {},
   "outputs": [],
   "source": [
    "a = pd.DataFrame(rfecv.ranking_)\n",
    "a.to_excel('Figure4_RFEcv_ranking10.xlsx')"
   ]
  },
  {
   "cell_type": "code",
   "execution_count": null,
   "id": "8be93e92",
   "metadata": {},
   "outputs": [],
   "source": [
    "b = pd.DataFrame(rfecv.grid_scores_)\n",
    "b.to_excel('Figure5_RFEcv_grid_scores10.xlsx')"
   ]
  },
  {
   "cell_type": "code",
   "execution_count": null,
   "id": "3dfb54be",
   "metadata": {},
   "outputs": [],
   "source": [
    "from sklearn.linear_model import LogisticRegression,SGDClassifier \n",
    "from sklearn.neighbors import KNeighborsClassifier\n",
    "from sklearn.tree import DecisionTreeClassifier\n",
    "from sklearn.svm import SVC\n",
    "from sklearn.neural_network import MLPClassifier\n",
    "\n",
    "from sklearn.ensemble import RandomForestClassifier,AdaBoostClassifier,GradientBoostingClassifier\n",
    "from xgboost import XGBClassifier\n",
    "\n",
    "from sklearn.preprocessing import StandardScaler,MinMaxScaler,Normalizer\n",
    "from sklearn.model_selection import train_test_split,KFold,LeaveOneOut,cross_val_score,cross_validate,GridSearchCV\n",
    "from sklearn.metrics import accuracy_score,confusion_matrix\n",
    "\n",
    "import warnings\n",
    "warnings.filterwarnings(\"ignore\")"
   ]
  },
  {
   "cell_type": "code",
   "execution_count": null,
   "id": "9732986d",
   "metadata": {},
   "outputs": [],
   "source": [
    "model_KNN = KNeighborsClassifier()\n",
    "model_LR = LogisticRegression()\n",
    "model_DT = DecisionTreeClassifier()\n",
    "model_SVM = SVC()\n",
    "\n",
    "model_MLP = MLPClassifier()\n",
    "model_SGD = SGDClassifier()\n",
    "model_RF = RandomForestClassifier()\n",
    "model_AB = AdaBoostClassifier()\n",
    "model_GB = GradientBoostingClassifier()"
   ]
  },
  {
   "cell_type": "code",
   "execution_count": null,
   "id": "a0cc8a0a",
   "metadata": {
    "scrolled": false
   },
   "outputs": [],
   "source": [
    "data6 = pd.read_excel('V8_RFE6_ranked.xlsx')\n",
    "data6.head()"
   ]
  },
  {
   "cell_type": "code",
   "execution_count": null,
   "id": "f4323293",
   "metadata": {},
   "outputs": [],
   "source": [
    "X = data6.iloc[:,3:6]\n",
    "Y = data6.iloc[:,2:3]\n",
    "X"
   ]
  },
  {
   "cell_type": "code",
   "execution_count": null,
   "id": "39f9e4b8",
   "metadata": {},
   "outputs": [],
   "source": [
    "X_std = StandardScaler().fit_transform(X)\n",
    "X_nml = Normalizer().fit_transform(X_std)"
   ]
  },
  {
   "cell_type": "code",
   "execution_count": null,
   "id": "c8c498d3",
   "metadata": {},
   "outputs": [],
   "source": [
    "#这里边只有准确率可以用于多分类，其他三个只能用于二分类，所有其他三个没有参考价值\n",
    "KF_result = pd.DataFrame()\n",
    "model_list = [model_KNN,model_LR,model_DT,model_SVM,model_MLP,model_SGD,model_RF,model_AB,model_GB]\n",
    "\n",
    "for i,x in enumerate(model_list):\n",
    "    scores1= cross_val_score(x,X_nml,Y,cv=10,scoring='accuracy')\n",
    "    KF_result.loc[i,'accuracy_score'] = np.mean(scores1)\n",
    "KF_result.index = pd.Series(model_list)\n",
    "KF_result"
   ]
  },
  {
   "cell_type": "code",
   "execution_count": null,
   "id": "7aa344cf",
   "metadata": {},
   "outputs": [],
   "source": [
    "KF_result.to_excel('Table1_Kfold_crosscv.xlsx')"
   ]
  },
  {
   "cell_type": "code",
   "execution_count": null,
   "id": "b6b374b7",
   "metadata": {},
   "outputs": [],
   "source": [
    "x_train,x_test,y_train,y_test = train_test_split(X_nml,Y,test_size=0.2,random_state=10)"
   ]
  },
  {
   "cell_type": "code",
   "execution_count": null,
   "id": "2270a856",
   "metadata": {},
   "outputs": [],
   "source": [
    "# model_RF调参\n",
    "params = {'n_estimators':[2,5,10,20,50],\n",
    "          'criterion':['gini','entropy'],\n",
    "          'max_depth':[None,1,5,10,20],\n",
    "          'min_samples_split':[1,2,5,10,20],\n",
    "          'min_samples_leaf':[1,2,3,4,5,10,20]\n",
    "         }\n",
    "clf = GridSearchCV(model_RF,param_grid=params,cv=5,scoring='accuracy')\n",
    "clf.fit(x_train,y_train)\n",
    "model_RF_best = clf.best_estimator_\n",
    "print(clf.best_params_)\n",
    "clf.best_score_"
   ]
  },
  {
   "cell_type": "code",
   "execution_count": null,
   "id": "dd1451f6",
   "metadata": {},
   "outputs": [],
   "source": [
    "BestModel_params = pd.DataFrame.from_dict(clf.best_params_,orient='index')\n",
    "BestModel_params.to_excel('a.xlsx')\n"
   ]
  },
  {
   "cell_type": "code",
   "execution_count": null,
   "id": "087c154e",
   "metadata": {},
   "outputs": [],
   "source": [
    "best_RF = pd.DataFrame()\n",
    "for i in range(1,51):\n",
    "    x_train,x_test,y_train,y_test = train_test_split(X_nml,Y,test_size=0.2,random_state=i)\n",
    "    y_pred = model_RF_best.predict(x_test)\n",
    "    acc_score = accuracy_score(y_test,y_pred)\n",
    "    best_RF.loc[i,'acc_score_RF'] = acc_score\n",
    "    #print(acc_score)\n",
    "best_RF"
   ]
  },
  {
   "cell_type": "code",
   "execution_count": null,
   "id": "f2fd8ba5",
   "metadata": {
    "scrolled": true
   },
   "outputs": [],
   "source": [
    "# model_GB调参； 不用一步一步算了；  https://zhuanlan.zhihu.com/p/55438631\n",
    "# 调参：https://blog.csdn.net/VariableX/article/details/107200334\n",
    "params = {'loss': ['deviance'], \n",
    "          'learning_rate': [0.01],\n",
    "          #'learning_rate': [0.001,0.01,0.1,1],\n",
    "          'subsample': [0.7], \n",
    "          #'subsample': [0.5,0.6,0.7,0.8,0.9,1,2,5,10],\n",
    "          'n_estimators': [10,50,100,120,300,500,800,1200], \n",
    "          #'n_estimators': [300],\n",
    "         # 'criterion': ['entropy','gini'],\n",
    "          #'max_depth': [1,2,3,5,8,15,None],\n",
    "          'max_depth': [8],\n",
    "          #'min_samples_leaf':[1,2,5,10],\n",
    "          'min_samples_leaf':[10],\n",
    "          #'min_samples_split':[2,5,10,20,50],\n",
    "          'min_samples_split':[10],\n",
    "         # 'max_features':['log2','sqrt',None],\n",
    "          'max_features':['sqrt']\n",
    "         }\n",
    "clf = GridSearchCV(model_GB,param_grid=params,cv=5,scoring='accuracy')\n",
    "clf.fit(x_train,y_train)\n",
    "model_GB_best = clf.best_estimator_\n",
    "print(clf.best_params_)\n",
    "clf.best_score_"
   ]
  },
  {
   "cell_type": "code",
   "execution_count": null,
   "id": "ab1173ef",
   "metadata": {},
   "outputs": [],
   "source": [
    "BestModel_params = pd.DataFrame.from_dict(clf.best_params_,orient='index')\n",
    "BestModel_params.to_excel('GB.xlsx')"
   ]
  },
  {
   "cell_type": "code",
   "execution_count": null,
   "id": "889fb8e8",
   "metadata": {},
   "outputs": [],
   "source": [
    "best_RF = pd.DataFrame()\n",
    "for i in range(1,51):\n",
    "    x_train,x_test,y_train,y_test = train_test_split(X_nml,Y,test_size=0.2,random_state=i)\n",
    "    y_pred = model_GB_best.predict(x_test)\n",
    "    acc_score = accuracy_score(y_test,y_pred)\n",
    "    best_RF.loc[i,'acc_score_GB'] = acc_score\n",
    "    #print(acc_score)\n",
    "best_RF"
   ]
  },
  {
   "cell_type": "code",
   "execution_count": null,
   "id": "b77b365c",
   "metadata": {
    "scrolled": true
   },
   "outputs": [],
   "source": [
    "# model_DT调参； 不用一步一步算了；  https://zhuanlan.zhihu.com/p/55438631\n",
    "# 调参：https://blog.csdn.net/VariableX/article/details/107188730\n",
    "#for i in range(2,50,2):\n",
    "#x_train,x_test,y_train,y_test = train_test_split(X,Y,test_size=0.2,random_state=20)    \n",
    "params = {'criterion': ['entropy','gini'],\n",
    "          # 'criterion': ['gini'],\n",
    "         'splitter': ['best','random'],\n",
    "          # 'splitter': ['random'],\n",
    "         # 'max_features': [None],\n",
    "          'max_features': [None,'log2','sqrt','auto'],\n",
    "          'max_depth':[3,5,8,10,20,30,50,None],\n",
    "         # 'max_depth':[None],\n",
    "         'min_samples_leaf':[1,2,5,10],\n",
    "         'min_samples_split':[1,2,5,10,15,100],\n",
    "          'class_weight':[None,'balanced'],\n",
    "         }\n",
    "clf = GridSearchCV(model_DT,param_grid=params,cv=5,scoring='accuracy')\n",
    "clf.fit(x_train,y_train)\n",
    "model_DT_best = clf.best_estimator_\n",
    "print(\"random_state= \",20)\n",
    "print(clf.best_params_)\n",
    "print(clf.best_score_)"
   ]
  },
  {
   "cell_type": "code",
   "execution_count": null,
   "id": "888cfb01",
   "metadata": {},
   "outputs": [],
   "source": [
    "BestModel_params = pd.DataFrame.from_dict(clf.best_params_,orient='index')\n",
    "BestModel_params.to_excel('DT.xlsx')"
   ]
  },
  {
   "cell_type": "code",
   "execution_count": null,
   "id": "32f93b94",
   "metadata": {
    "scrolled": true
   },
   "outputs": [],
   "source": [
    "best_DT = pd.DataFrame()\n",
    "for i in range(1,51):\n",
    "    x_train,x_test,y_train,y_test = train_test_split(X_nml,Y,test_size=0.2,random_state=i)\n",
    "    y_pred = model_DT_best.predict(x_test)\n",
    "    acc_score = accuracy_score(y_test,y_pred)\n",
    "    best_DT.loc[i,'acc_score_DT'] = acc_score\n",
    "    #print(acc_score)\n",
    "best_DT"
   ]
  },
  {
   "cell_type": "code",
   "execution_count": null,
   "id": "df875c74",
   "metadata": {},
   "outputs": [],
   "source": [
    "# model_SVM调参； 不用一步一步算了；  https://zhuanlan.zhihu.com/p/55438631\n",
    "params = {'C': [0.001,0.01,0.1,1,10], \n",
    "          'degree': [3,2,1],\n",
    "          'kernel': ['linear','poly''rbf','sigmoid'], \n",
    "          'max_iter': [1,2,5,10,20,50,-1], \n",
    "          'probability': [True,False], \n",
    "          'shrinking': [True,False],  \n",
    "          'tol': [1e-1,1e-2,1e-3,1e-4,1e-5]\n",
    "         }\n",
    "clf = GridSearchCV(model_SVM,param_grid=params,cv=5,scoring='accuracy')\n",
    "clf.fit(x_train,y_train)\n",
    "model_SVM_best = clf.best_estimator_\n",
    "print(clf.best_params_)\n",
    "clf.best_score_"
   ]
  },
  {
   "cell_type": "code",
   "execution_count": null,
   "id": "784a97e0",
   "metadata": {},
   "outputs": [],
   "source": [
    "BestModel_params = pd.DataFrame.from_dict(clf.best_params_,orient='index')\n",
    "BestModel_params.to_excel('scv.xlsx')"
   ]
  },
  {
   "cell_type": "code",
   "execution_count": null,
   "id": "ecd98b3b",
   "metadata": {},
   "outputs": [],
   "source": [
    "best_SVM = pd.DataFrame()\n",
    "for i in range(1,51):\n",
    "    x_train,x_test,y_train,y_test = train_test_split(X_nml,Y,test_size=0.2,random_state=i)\n",
    "    y_pred = model_SVM_best.predict(x_test)\n",
    "    acc_score = accuracy_score(y_test,y_pred)\n",
    "    best_SVM.loc[i,'acc_score_SVM'] = acc_score\n",
    "    #print(acc_score)\n",
    "best_SVM"
   ]
  },
  {
   "cell_type": "code",
   "execution_count": null,
   "id": "3644c054",
   "metadata": {},
   "outputs": [],
   "source": [
    "x_train,x_test,y_train,y_test = train_test_split(X_nml,Y,test_size=0.2,random_state=5)"
   ]
  },
  {
   "cell_type": "code",
   "execution_count": null,
   "id": "bf1369b1",
   "metadata": {
    "scrolled": true
   },
   "outputs": [],
   "source": [
    "#先试一下KNN调参\n",
    "params = {'n_neighbors':[1,2,3,4,5,6,7,8,9,10,20,30],\n",
    "          'algorithm':['auto','ball_tree','kd_tree','brute'],\n",
    "          'leaf_size':[10,20,30,40,50,60,70,80,90,100,200,300],\n",
    "          'weights':['uniform','distance']\n",
    "          #'p':[1,2]\n",
    "         }\n",
    "clf = GridSearchCV(model_KNN,param_grid=params,cv=10)\n",
    "clf.fit(x_train,y_train)\n",
    "\n",
    "model_KNN_best = clf.best_estimator_\n",
    "print(clf.best_params_)\n",
    "clf.best_score_"
   ]
  },
  {
   "cell_type": "code",
   "execution_count": null,
   "id": "eea694a3",
   "metadata": {
    "scrolled": true
   },
   "outputs": [],
   "source": [
    "model_KNN_best"
   ]
  },
  {
   "cell_type": "code",
   "execution_count": null,
   "id": "84e36e64",
   "metadata": {},
   "outputs": [],
   "source": [
    "BestModel_params = pd.DataFrame.from_dict(clf.best_params_,orient='index')\n",
    "BestModel_params.to_excel('KNN.xlsx')"
   ]
  },
  {
   "cell_type": "code",
   "execution_count": null,
   "id": "49ac7c04",
   "metadata": {},
   "outputs": [],
   "source": [
    "X_nml[:,0:1]"
   ]
  },
  {
   "cell_type": "code",
   "execution_count": null,
   "id": "ad911ee9",
   "metadata": {},
   "outputs": [],
   "source": [
    "best_KNN = pd.DataFrame()\n",
    "for i in range(1,51):\n",
    "    x_train,x_test,y_train,y_test = train_test_split(X_nml,Y,test_size=0.2,random_state=i)\n",
    "    y_pred = model_KNN_best.predict(x_test)\n",
    "    acc_score = accuracy_score(y_test,y_pred)\n",
    "    best_KNN.loc[i,'acc_score_KNN'] = acc_score\n",
    "    #print(acc_score)\n",
    "best_KNN"
   ]
  },
  {
   "cell_type": "code",
   "execution_count": null,
   "id": "c6cc01b4",
   "metadata": {},
   "outputs": [],
   "source": [
    "# https://zhuanlan.zhihu.com/p/359884598\n",
    "from sklearn.externals import joblib\n",
    "（1）保存模型\n",
    "joblib.dump(classifier, 'D:/desktop/my_knn.pkl')\n",
    "\n",
    "（2）加载模型\n",
    "my_knn = joblib.load('D:/desktop/my_knn.pkl')"
   ]
  },
  {
   "cell_type": "code",
   "execution_count": null,
   "id": "be901c2d",
   "metadata": {
    "scrolled": true
   },
   "outputs": [],
   "source": [
    "selfSample = pd.read_excel('SelfpredictAsite5_RFE6_ranked.xlsx')\n",
    "selfSample"
   ]
  },
  {
   "cell_type": "code",
   "execution_count": null,
   "id": "197df7e8",
   "metadata": {
    "scrolled": false
   },
   "outputs": [],
   "source": [
    "X_prid = selfSample.iloc[:,3:6]\n",
    "X_prid"
   ]
  },
  {
   "cell_type": "code",
   "execution_count": null,
   "id": "7b2ccecd",
   "metadata": {
    "scrolled": true
   },
   "outputs": [],
   "source": [
    "X_std_prid = StandardScaler().fit_transform(X_prid)\n",
    "X_nml_prid = Normalizer().fit_transform(X_std_prid)\n",
    "X_nml_prid"
   ]
  },
  {
   "cell_type": "code",
   "execution_count": null,
   "id": "052efb74",
   "metadata": {
    "scrolled": true
   },
   "outputs": [],
   "source": [
    "y_pred = model_KNN_best.predict(X_nml_prid)\n",
    "y_pred"
   ]
  },
  {
   "cell_type": "code",
   "execution_count": null,
   "id": "80af5ef0",
   "metadata": {},
   "outputs": [],
   "source": []
  },
  {
   "cell_type": "code",
   "execution_count": null,
   "id": "f563d31f",
   "metadata": {},
   "outputs": [],
   "source": []
  },
  {
   "cell_type": "code",
   "execution_count": null,
   "id": "f8e34e39",
   "metadata": {},
   "outputs": [],
   "source": [
    "import shap\n",
    "\n",
    "# https://stackoverflow.com/questions/62211302/obtaining-the-shap-values-for-a-prediction-made-with-knn\n",
    "explainer = shap.KernelExplainer(model_KNN_best.predict_proba,x_test) #这里的model在准备工作中已经完成建模，模型名称就是model\n",
    "shap_values = explainer.shap_values(X_selfA_nml) #这里的test_data是我的测试集，predictors是X_train的变量"
   ]
  },
  {
   "cell_type": "code",
   "execution_count": null,
   "id": "9c156102",
   "metadata": {},
   "outputs": [],
   "source": [
    "shap_values"
   ]
  },
  {
   "cell_type": "code",
   "execution_count": null,
   "id": "d7a5fed4",
   "metadata": {},
   "outputs": [],
   "source": [
    "data31 = pd.read_excel('SelfpredictAsiteRFE6_ranked5.xlsx')\n",
    "data31"
   ]
  },
  {
   "cell_type": "code",
   "execution_count": null,
   "id": "ee419aaf",
   "metadata": {
    "scrolled": true
   },
   "outputs": [],
   "source": [
    "X_selfA = data31.iloc[:,1:4]\n",
    "Y_selfA = data31.iloc[:,-2:-1]\n",
    "X_selfA"
   ]
  },
  {
   "cell_type": "code",
   "execution_count": null,
   "id": "c7a11d41",
   "metadata": {
    "scrolled": true
   },
   "outputs": [],
   "source": [
    "X_selfA_std = StandardScaler().fit_transform(X_selfA)\n",
    "X_selfA_nml = Normalizer().fit_transform(X_selfA_std)\n",
    "X_selfA_nml"
   ]
  },
  {
   "cell_type": "code",
   "execution_count": null,
   "id": "46529ac0",
   "metadata": {},
   "outputs": [],
   "source": [
    "a = pd.DataFrame(X_selfA_nml)\n",
    "a.to_excel('a.xlsx')"
   ]
  },
  {
   "cell_type": "code",
   "execution_count": null,
   "id": "6285b672",
   "metadata": {
    "scrolled": true
   },
   "outputs": [],
   "source": [
    "#分层保存shap_values\n",
    "a = pd.DataFrame(shap_values[2])\n",
    "a.to_excel('Figure19_selfAsite_SHAPvalues2.xlsx')"
   ]
  },
  {
   "cell_type": "code",
   "execution_count": null,
   "id": "f057380e",
   "metadata": {},
   "outputs": [],
   "source": [
    "plt.figure(dpi=100)\n",
    "plt.rcParams['Figure.figsize'] = (8.0,6.0)\n",
    "\n",
    "cols = X.columns.tolist()\n",
    "shap.summary_plot(shap_values[2],x_test,feature_names=cols,show = False)\n",
    "\n",
    "#保存图片\n",
    "plt.savefig('Figure16_x_test_ShapValues2.png',dpi=1080,bbox_inches='tight',transparent=True)"
   ]
  },
  {
   "cell_type": "code",
   "execution_count": null,
   "id": "863f6c63",
   "metadata": {},
   "outputs": [],
   "source": [
    "shap_values[0]"
   ]
  },
  {
   "cell_type": "code",
   "execution_count": null,
   "id": "5a486be7",
   "metadata": {},
   "outputs": [],
   "source": [
    "from IPython.core.display import HTML\n",
    "HTML('<a href=\"http://example.com\">link</a>')"
   ]
  },
  {
   "cell_type": "code",
   "execution_count": null,
   "id": "f9879faa",
   "metadata": {
    "scrolled": true
   },
   "outputs": [],
   "source": [
    "X.columns"
   ]
  },
  {
   "cell_type": "code",
   "execution_count": null,
   "id": "337e1866",
   "metadata": {},
   "outputs": [],
   "source": [
    "#更改列标题\n",
    "list(X)\n",
    "#X.columns\n",
    "x_test_df = pd.DataFrame(x_test)\n",
    "x_test_df.columns = list(X)\n",
    "x_test_df"
   ]
  },
  {
   "cell_type": "code",
   "execution_count": null,
   "id": "f3db84ee",
   "metadata": {
    "scrolled": false
   },
   "outputs": [],
   "source": [
    "force_plot = shap.force_plot(explainer.expected_value[2],shap_values[2][38,:],\n",
    "                             x_test_df.iloc[38,:],show = False\n",
    "                            )\n",
    "shap_html = f\"{shap.getjs()}{force_plot.html()}\"\n",
    "HTML(shap_html)\n",
    "#imgkit.(force_plot.html(), 'out.png')\n",
    "#plt.savefig('Figure17_2_ShapValues0_singleSampleIndex35.png',dpi=1080,bbox_inches='tight',transparent=True)"
   ]
  },
  {
   "cell_type": "code",
   "execution_count": null,
   "id": "d4d72994",
   "metadata": {},
   "outputs": [],
   "source": [
    "explainer.expected_value[0]"
   ]
  },
  {
   "cell_type": "code",
   "execution_count": null,
   "id": "58260436",
   "metadata": {
    "scrolled": false
   },
   "outputs": [],
   "source": [
    "#查看整个测试集的Force Plot\n",
    "shap.force_plot(explainer.expected_value[2], \n",
    "                shap_values[2][:38,:], x_test_df.iloc[:38,:])"
   ]
  },
  {
   "cell_type": "code",
   "execution_count": null,
   "id": "d40b0321",
   "metadata": {},
   "outputs": [],
   "source": [
    "list(X)"
   ]
  },
  {
   "cell_type": "code",
   "execution_count": null,
   "id": "2c12fd33",
   "metadata": {},
   "outputs": [],
   "source": [
    "x_test_df.to_excel('x_test_nml.xlsx')"
   ]
  },
  {
   "cell_type": "code",
   "execution_count": null,
   "id": "cf34543d",
   "metadata": {
    "scrolled": true
   },
   "outputs": [],
   "source": [
    "plt.figure(dpi=200)\n",
    "plt.rcParams['xtick.direction'] = 'in' \n",
    "plt.rcParams['ytick.direction'] = 'in' \n",
    "shap.dependence_plot('SlogP_VSA2', shap_values[2], x_test_df, display_features=x_test_df,show = False)"
   ]
  },
  {
   "cell_type": "code",
   "execution_count": null,
   "id": "ccadd27c",
   "metadata": {},
   "outputs": [],
   "source": [
    "X11,y11 = shap.datasets.adult()\n",
    "X11"
   ]
  },
  {
   "cell_type": "code",
   "execution_count": null,
   "id": "d301ddad",
   "metadata": {},
   "outputs": [],
   "source": [
    "X_display,y_display = shap.datasets.adult(display=True)\n",
    "X_display"
   ]
  },
  {
   "cell_type": "code",
   "execution_count": null,
   "id": "11d252af",
   "metadata": {},
   "outputs": [],
   "source": [
    "# model_MLP调参； 不用一步一步算了；  https://zhuanlan.zhihu.com/p/55438631\n",
    "params = {#'hidden_layer_sizes':[1,2,5,10,20,50,100,200,500,1000,2000],\n",
    "          'hidden_layer_sizes':[1000],\n",
    "          'activation':['relu'],\n",
    "          #'activation':['identity','logistic','tanh','relu'],         \n",
    "         # 'solver':['adam','sgd','lbfgs'],\n",
    "          'solver':['adam'],\n",
    "          #'alpha':[0.00001,0.00005,0.0001,0.0005,0.001,0.005,0.01,0.05,0.1],\n",
    "          'alpha':[0.0005],\n",
    "         # 'learning_rate':['constant','invscaling','adaptive'],\n",
    "          'learning_rate':['constant'],\n",
    "         # 'max_iter':[1,10,100,200,500,1000,2000],\n",
    "          'max_iter':[1000],\n",
    "          #'shuffle':[True,False],\n",
    "          'shuffle':[False],\n",
    "          'tol': [1e-1,1e-2,1e-3,1e-4,1e-5],\n",
    "         }\n",
    "clf = GridSearchCV(model_MLP,param_grid=params,cv=5,scoring='accuracy')\n",
    "clf.fit(x_train,y_train)\n",
    "model_MLP_best = clf.best_estimator_\n",
    "print(clf.best_params_)\n",
    "clf.best_score_"
   ]
  },
  {
   "cell_type": "code",
   "execution_count": null,
   "id": "07df14d0",
   "metadata": {},
   "outputs": [],
   "source": [
    "BestModel_params = pd.DataFrame.from_dict(clf.best_params_,orient='index')\n",
    "BestModel_params.to_excel('AB.xlsx')"
   ]
  },
  {
   "cell_type": "code",
   "execution_count": null,
   "id": "106eaa00",
   "metadata": {},
   "outputs": [],
   "source": [
    "best_AB = pd.DataFrame()\n",
    "for i in range(1,51):\n",
    "    x_train,x_test,y_train,y_test = train_test_split(X_nml,Y,test_size=0.2,random_state=i)\n",
    "    y_pred = model_AB_best.predict(x_test)\n",
    "    acc_score = accuracy_score(y_test,y_pred)\n",
    "    best_AB.loc[i,'acc_score_AB'] = acc_score\n",
    "    #print(acc_score)\n",
    "best_AB"
   ]
  },
  {
   "cell_type": "code",
   "execution_count": null,
   "id": "b611f092",
   "metadata": {},
   "outputs": [],
   "source": [
    "# model_LR调参； 不用一步一步算了；  https://zhuanlan.zhihu.com/p/55438631\n",
    "params = {'C':[0.0001, 1, 100, 1000],\n",
    "          'max_iter':[1, 10, 100, 500],\n",
    "          'class_weight':['balanced', None],\n",
    "          'solver':['liblinear','sag','lbfgs','newton-cg']\n",
    "         }\n",
    "clf = GridSearchCV(model_LR,param_grid=params,cv=5,scoring='accuracy')\n",
    "clf.fit(x_train,y_train)\n",
    "model_LR_best = clf.best_estimator_\n",
    "print(clf.best_params_)\n",
    "clf.best_score_"
   ]
  },
  {
   "cell_type": "code",
   "execution_count": null,
   "id": "774e37aa",
   "metadata": {},
   "outputs": [],
   "source": [
    "# model_SGD调参； 不用一步一步算了；  https://zhuanlan.zhihu.com/p/55438631\n",
    "params = {#'loss': ['hinge','log','modified_huber','squared_hinge','perceptron','huber','epsilon_insensitive','squared_epsilon_insensitive'], \n",
    "          'loss': ['perceptron'],\n",
    "         # 'penalty': ['l1','l2','elasticnet'],\n",
    "          'penalty': ['elasticnet'],\n",
    "         # 'alpha': [1e-6,1e-5,1e-4,1e-3,1e-2,0.1], \n",
    "         'alpha': [1e-4], \n",
    "          #'l1_ratio': [0.05],\n",
    "        # 'fit_intercept': [True,False], \n",
    "        'fit_intercept': [True],\n",
    "         # 'max_iter': [1,2,5,10,50,100],\n",
    "         'max_iter': [50],\n",
    "         # 'tol': [1e-4,1e-3,1e-2,1e-1,None],\n",
    "        'tol': [0.1],\n",
    "        #  'shuffle': [True,False],\n",
    "        'shuffle': [True],\n",
    "         #'learning_rate':['constant','optimal','invscaling']\n",
    "          'epsilon': [0,0.0001,0.001,0.01,0.1,1,2,5],\n",
    "         }\n",
    "clf = GridSearchCV(model_SGD,param_grid=params,cv=5,scoring='accuracy')\n",
    "clf.fit(x_train,y_train)\n",
    "model_SGD_best = clf.best_estimator_\n",
    "print(clf.best_params_)\n",
    "clf.best_score_"
   ]
  },
  {
   "cell_type": "code",
   "execution_count": null,
   "id": "08a0d750",
   "metadata": {},
   "outputs": [],
   "source": [
    "# model_AB调参； 不用一步一步算了；  https://zhuanlan.zhihu.com/p/55438631\n",
    "params = {'n_estimators': [1,2,5,10,20,50,100,200], \n",
    "          'learning_rate': [0,1,2,5,10,20,50,100,200],\n",
    "          'algorithm': ['SAMME','SAMME.R'], \n",
    "         }\n",
    "clf = GridSearchCV(model_AB,param_grid=params,cv=5,scoring='accuracy')\n",
    "clf.fit(x_train,y_train)\n",
    "model_AB_best = clf.best_estimator_\n",
    "print(clf.best_params_)\n",
    "clf.best_score_"
   ]
  },
  {
   "cell_type": "code",
   "execution_count": null,
   "id": "8795a20f",
   "metadata": {},
   "outputs": [],
   "source": []
  },
  {
   "cell_type": "code",
   "execution_count": null,
   "id": "608917b1",
   "metadata": {},
   "outputs": [],
   "source": [
    "data7 = pd.read_excel('Figure8_AllBestModelBox_DropMinMax.xlsx')"
   ]
  },
  {
   "cell_type": "code",
   "execution_count": null,
   "id": "458879c1",
   "metadata": {
    "scrolled": false
   },
   "outputs": [],
   "source": [
    "# best_RF_feature箱型图绘制\n",
    "# https://blog.csdn.net/weixin_40683253/article/details/87857194\n",
    "boxprops={'color':'black','facecolor':'#84c1bc','linewidth':'1'}\n",
    "medianprops = dict(linewidth=1.5, color='#3d85ab')\n",
    "labels = '1','2','3','4','5','6','7','8','9'\n",
    "font = {'family':'Arial',\n",
    "        'size':'16'\n",
    "       }\n",
    "    \n",
    "box_1,box_2,box_3,box_4,box_5,box_6,box_7,box_8,box_9 = data7['acc_score_RF'],data7['acc_score_GB'],data7['acc_score_DT'],data7['acc_score_SVM'],data7['acc_score_KNN'],data7['acc_score_MLP'],data7['acc_score_LR'],data7['acc_score_SGD'],data7['acc_score_AB'],\n",
    "a = [box_1,box_2,box_3,box_4,box_5,box_6,box_7,box_8,box_9] \n",
    "\n",
    "plt.figure(dpi=100)\n",
    "#plt.minorticks_on()\n",
    "plt.tick_params(top=False,bottom=True,left=True,right=False)\n",
    "#ax = plt.gca()\n",
    "#ax.axes.xaxis.set_visible(True)\n",
    "plt.boxplot(a,labels=labels,patch_artist=True,showfliers=False,boxprops=boxprops,medianprops=medianprops)\n",
    "#plt.grid(True)\n",
    "#plt.style.use('seaborn-white')\n",
    "plt.xlabel('Number of Features',fontdict=font)\n",
    "plt.ylabel('Accurancy Score',fontdict=font)\n",
    "plt.xticks(fontsize=12,color='black')\n",
    "plt.yticks(fontsize=12)\n",
    "\n",
    "plt.tick_params(direction='in')\n",
    "#plt.rcParams['xtick.direction'] = 'in' #刻度朝内\n",
    "#plt.rcParams['ytick.direction'] = 'in' #刻度朝内\n",
    "#plt.grid(linestyle=\"--\",alpha=0.3)\n",
    "plt.ylim(0.4,1) #定义y取值范围\n",
    "plt.show()\n",
    "#plt.savefig(\"bestRF_Nfeatures.jpg\",dpi=1600,bbox_inches='tight')"
   ]
  },
  {
   "cell_type": "code",
   "execution_count": null,
   "id": "cf87bcb0",
   "metadata": {},
   "outputs": [],
   "source": [
    "model_KNN_best"
   ]
  },
  {
   "cell_type": "code",
   "execution_count": null,
   "id": "e4a044c7",
   "metadata": {
    "scrolled": false
   },
   "outputs": [],
   "source": [
    "data8 = pd.read_excel('V8_RFE6_ranked.xlsx')\n",
    "data8.head()"
   ]
  },
  {
   "cell_type": "code",
   "execution_count": null,
   "id": "175e2375",
   "metadata": {
    "scrolled": true
   },
   "outputs": [],
   "source": [
    "X = data8.iloc[:,3:6]\n",
    "Y = data8.iloc[:,2:3]\n",
    "X"
   ]
  },
  {
   "cell_type": "code",
   "execution_count": null,
   "id": "f14701aa",
   "metadata": {},
   "outputs": [],
   "source": [
    "X_std = StandardScaler().fit_transform(X)\n",
    "X_nml = Normalizer().fit_transform(X_std)"
   ]
  },
  {
   "cell_type": "code",
   "execution_count": null,
   "id": "34eab72e",
   "metadata": {},
   "outputs": [],
   "source": [
    "x_train,x_test,y_train,y_test = train_test_split(X_nml,Y,test_size=0.2,random_state=10)"
   ]
  },
  {
   "cell_type": "code",
   "execution_count": null,
   "id": "9059f53b",
   "metadata": {},
   "outputs": [],
   "source": [
    "#先试一下KNN调参\n",
    "params = {'n_neighbors':[1,2,3,4,5,6,7,8,9,10,20,30],\n",
    "          'algorithm':['auto','ball_tree','kd_tree','brute'],\n",
    "          'leaf_size':[10,20,30,40,50,60,70,80,90,100,200,300],\n",
    "          'weights':['uniform','distance']\n",
    "          #'p':[1,2]\n",
    "         }\n",
    "clf = GridSearchCV(model_KNN,param_grid=params,cv=10)\n",
    "clf.fit(x_train,y_train)\n",
    "\n",
    "model_KNN_best = clf.best_estimator_\n",
    "print(clf.best_params_)\n",
    "clf.best_score_"
   ]
  },
  {
   "cell_type": "code",
   "execution_count": null,
   "id": "ca0a8dd8",
   "metadata": {},
   "outputs": [],
   "source": [
    "best_KNN = pd.DataFrame()\n",
    "for i in range(1,51):\n",
    "    x_train,x_test,y_train,y_test = train_test_split(X_nml,Y,test_size=0.2,random_state=i)\n",
    "    y_pred = model_KNN_best.predict(x_test)\n",
    "    acc_score = accuracy_score(y_test,y_pred)\n",
    "    best_KNN.loc[i,'acc_score_KNN'] = acc_score\n",
    "    #print(acc_score)\n",
    "best_KNN"
   ]
  },
  {
   "cell_type": "code",
   "execution_count": null,
   "id": "b379fa2a",
   "metadata": {},
   "outputs": [],
   "source": [
    "BestModel_params = pd.DataFrame.from_dict(clf.best_params_,orient='index')\n",
    "BestModel_params.to_excel('AB.xlsx')"
   ]
  },
  {
   "cell_type": "code",
   "execution_count": null,
   "id": "3d594842",
   "metadata": {},
   "outputs": [],
   "source": [
    "y_test"
   ]
  },
  {
   "cell_type": "code",
   "execution_count": null,
   "id": "163ded6f",
   "metadata": {},
   "outputs": [],
   "source": [
    "#前41个特征的相关性热图\n",
    "X_corr = round(X.corr().abs(),2)\n",
    "\n",
    "plt.figure(dpi=200)\n",
    "sns.set(font_scale=1.2)\n",
    "plt.rc('font',family='Arial')\n",
    "sns.heatmap(X_corr,cmap=\"GnBu\",\n",
    "            annot=True,annot_kws={'size':14},\n",
    "           vmax=1,\n",
    "           linewidths=1)\n",
    "plt.xticks(rotation=90)\n",
    "plt.savefig('Figure7_heatmapPersen6.png',dpi=2160,bbox_inches='tight')\n",
    "#plt.show()"
   ]
  },
  {
   "cell_type": "code",
   "execution_count": null,
   "id": "aac1b4ea",
   "metadata": {},
   "outputs": [],
   "source": [
    "#混淆矩阵\n",
    "from sklearn.metrics import confusion_matrix\n",
    "\n",
    "y_pred = model_KNN_best.predict(x_test)\n",
    "CM = confusion_matrix(y_test,y_pred,labels=[0,1,2])\n",
    "plt.figure(dpi=200)\n",
    "\n",
    "\n",
    "\n",
    "plt.rc('font',family='Arial')\n",
    "sns.set(font_scale=1.8)\n",
    "sns.heatmap(CM,cmap=\"GnBu\",annot=True,annot_kws={'size':16},linewidths=2)\n",
    "plt.ylabel('True Dimensionality')\n",
    "plt.xlabel('Predicted Dimensionality')\n",
    "plt.savefig('Figure11_confusionMatrix.png',bbox_inches='tight',dpi=1600)"
   ]
  },
  {
   "cell_type": "code",
   "execution_count": null,
   "id": "8a5cbba0",
   "metadata": {
    "scrolled": true
   },
   "outputs": [],
   "source": [
    "df1 = pd.read_excel('V12_6FeatureKDEViolin_nml.xlsx')\n",
    "df1"
   ]
  },
  {
   "cell_type": "code",
   "execution_count": null,
   "id": "358cc7c0",
   "metadata": {
    "scrolled": true
   },
   "outputs": [],
   "source": [
    "df1['ATSC1pe']"
   ]
  },
  {
   "cell_type": "code",
   "execution_count": null,
   "id": "2791bee9",
   "metadata": {
    "scrolled": false
   },
   "outputs": [],
   "source": [
    "X = df1.iloc[:,2:]\n",
    "Y = df1.iloc[:,1:2]\n",
    "X"
   ]
  },
  {
   "cell_type": "code",
   "execution_count": null,
   "id": "14627309",
   "metadata": {},
   "outputs": [],
   "source": [
    "X.plot(kind='hist')"
   ]
  },
  {
   "cell_type": "code",
   "execution_count": null,
   "id": "3c8f7aa1",
   "metadata": {},
   "outputs": [],
   "source": [
    "df1['ATSC1pe'].hist(bins=10)"
   ]
  },
  {
   "cell_type": "code",
   "execution_count": null,
   "id": "adc382e2",
   "metadata": {},
   "outputs": [],
   "source": [
    "#plt.figure(dpi=200)\n",
    "sns.pairplot(df1,hue='Dimensionality',diag_kind='kde',\n",
    "             height=3,\n",
    "             #markers=[\"o\", \"s\", \"D\"],\n",
    "             palette=\"tab10\",\n",
    "             corner=False,\n",
    "             #diag_kind=\"hist\"\n",
    "            )\n",
    "#hue='Dimensionality',palette=\"tab10\"\n",
    "\n",
    "\n",
    "#plt.savefig('pairplot.png',dpi=2160,bbox_inches='tight',transparent=True)"
   ]
  },
  {
   "cell_type": "code",
   "execution_count": null,
   "id": "9e3ca3f3",
   "metadata": {},
   "outputs": [],
   "source": [
    "sns.set_style('darkgrid')"
   ]
  },
  {
   "cell_type": "code",
   "execution_count": null,
   "id": "870b8621",
   "metadata": {},
   "outputs": [],
   "source": [
    "#plt.figure(dpi=200)\n",
    "g = sns.PairGrid(df1,hue='Dimensionality',palette=\"tab10\",)\n",
    "g.map_lower(sns.scatterplot,s=80,alpha=0.5,ec='black')\n",
    "g.map_diag(sns.kdeplot,fill=True)\n",
    "g.map_upper(sns.scatterplot,s=80,alpha=0.5,ec='black')\n",
    "g.add_legend()\n",
    "#g.axes().tick_params(direction='in')\n",
    "#g.map_upper(sns.kdeplot,n_levels=6)\n",
    "\n",
    "\n",
    "#plt.savefig('pairplot.png',dpi=2160,bbox_inches='tight',transparent=True)"
   ]
  },
  {
   "cell_type": "code",
   "execution_count": null,
   "id": "20b85d56",
   "metadata": {},
   "outputs": [],
   "source": [
    "df1['Dimensionality'].unique()"
   ]
  },
  {
   "cell_type": "code",
   "execution_count": null,
   "id": "37384f27",
   "metadata": {},
   "outputs": [],
   "source": [
    "ATSC1pe \tMATS2c \tSlogP_VSA2 \tATSC3c \tGATS2c \tAATSC2c"
   ]
  },
  {
   "cell_type": "code",
   "execution_count": null,
   "id": "4411b050",
   "metadata": {},
   "outputs": [],
   "source": [
    "# KDE图\n",
    "plt.figure(dpi=100)\n",
    "plt.rcParams['figure.figsize'] = (8.0,6.0)\n",
    "\n",
    "D2 = df1.loc[df1.Dimensionality==2] #取出所有2D数据\n",
    "D1 = df1.loc[df1.Dimensionality==1] #取出所有1D数据\n",
    "D0 = df1.loc[df1.Dimensionality==0] #取出所有0D数据\n",
    "#插入kde图\n",
    "sns.kdeplot(D1.MATS2c,D1.AATSC2c,cmap='Blues',shade=True,shade_lowest=False,n_levels=8,alpha=1)\n",
    "sns.kdeplot(D0.MATS2c,D0.AATSC2c,cmap='Greens',shade=True,shade_lowest=False,n_levels=8,alpha=1)\n",
    "sns.kdeplot(D2.MATS2c,D2.AATSC2c,cmap='Reds',shade=True,shade_lowest=False,n_levels=8,alpha=1)\n",
    "#sns.kdeplot(df1['AATSC2c'],df1['MATS2c'],hue=df1['Dimensionality'],palette=\"Set2\",shade=True,shade_lowest=False,n_levels=8)\n",
    "\n",
    "# 获取/调整边框 https://www.cxyzjd.com/article/qq_40481843/106231257 \n",
    "ax1=plt.gca()  \n",
    "bwith = 2\n",
    "ax1.spines['bottom'].set_linewidth(bwith)\n",
    "ax1.spines['left'].set_linewidth(bwith)\n",
    "ax1.spines['top'].set_linewidth(bwith)\n",
    "ax1.spines['right'].set_linewidth(bwith)\n",
    "\n",
    "#调整x/y取值范围\n",
    "plt.xlim(-1.6,1.6)\n",
    "plt.ylim(-1.6,1.6)\n",
    "\n",
    "#刻度和方向\n",
    "plt.rcParams[\"ytick.left\"] = True \n",
    "plt.rcParams[\"xtick.bottom\"] = True\n",
    "plt.rcParams[\"xtick.top\"] = False \n",
    "plt.rcParams[\"ytick.right\"] = False\n",
    "plt.rcParams['xtick.direction'] = 'in' \n",
    "plt.rcParams['ytick.direction'] = 'in' \n",
    "plt.tick_params(axis='both',width=2)\n",
    "#刻度间隔\n",
    "x_major_locator=MultipleLocator(0.6)\n",
    "y_major_locator=MultipleLocator(0.8)\n",
    "ax1.xaxis.set_major_locator(x_major_locator)\n",
    "ax1.yaxis.set_major_locator(y_major_locator)\n",
    "#标签大小\n",
    "plt.xticks(fontsize=20)\n",
    "plt.yticks(fontsize=20)\n",
    "\n",
    "#标题和大小\n",
    "ax = plt.subplot()\n",
    "ax.set_xlabel(xlabel='MATS2c',fontsize=22)\n",
    "ax.set_ylabel(ylabel='AATSC2c',fontsize=22)\n",
    "\n",
    "#保存图片\n",
    "plt.savefig('Figure12_13_kde_MATS2c_AATSC2c.png',dpi=1080,bbox_inches='tight',transparent=True)"
   ]
  },
  {
   "cell_type": "code",
   "execution_count": null,
   "id": "2fd87c2a",
   "metadata": {},
   "outputs": [],
   "source": [
    "ATSC1pe \tMATS2c \tSlogP_VSA2 \tATSC3c \tGATS2c \tAATSC2c"
   ]
  },
  {
   "cell_type": "code",
   "execution_count": null,
   "id": "3cf85ac8",
   "metadata": {},
   "outputs": [],
   "source": [
    "df2 = pd.read_excel('V12_6FeatureKDEViolin_nml.xlsx')\n",
    "df2"
   ]
  },
  {
   "cell_type": "code",
   "execution_count": null,
   "id": "dc789570",
   "metadata": {},
   "outputs": [],
   "source": [
    "X2 = df2.iloc[:,2:]\n",
    "Y2 = df2.iloc[:,1:2]\n",
    "Y2"
   ]
  },
  {
   "cell_type": "code",
   "execution_count": null,
   "id": "a2090e24",
   "metadata": {},
   "outputs": [],
   "source": [
    "ATSC1pe \tMATS2c \tSlogP_VSA2 \tATSC3c \tGATS2c \tAATSC2c"
   ]
  },
  {
   "cell_type": "code",
   "execution_count": null,
   "id": "ea729e41",
   "metadata": {},
   "outputs": [],
   "source": [
    "# 小提琴图\n",
    "\n",
    "plt.figure(dpi=100)\n",
    "plt.rcParams['figure.figsize'] = (8.0,6.0)\n",
    "\n",
    "#插入小提琴图\n",
    "sns.violinplot(data=df2,x='Dimensionality',y='SlogP_VSA2',cut=5,zorder=300,palette='GnBu')\n",
    "#sns.set_style('white')\n",
    "\n",
    "\n",
    "\n",
    "# 获取/调整边框 https://www.cxyzjd.com/article/qq_40481843/106231257 \n",
    "ax1=plt.gca()  \n",
    "bwith = 2\n",
    "ax1.spines['bottom'].set_linewidth(bwith)\n",
    "ax1.spines['left'].set_linewidth(bwith)\n",
    "ax1.spines['top'].set_linewidth(bwith)\n",
    "ax1.spines['right'].set_linewidth(bwith)\n",
    "\n",
    "#刻度和方向\n",
    "plt.rcParams[\"ytick.left\"] = True \n",
    "plt.rcParams[\"xtick.bottom\"] = True\n",
    "plt.rcParams[\"xtick.top\"] = False \n",
    "plt.rcParams[\"ytick.right\"] = False\n",
    "plt.rcParams['xtick.direction'] = 'in' \n",
    "plt.rcParams['ytick.direction'] = 'in' \n",
    "plt.tick_params(axis='both',width=2)\n",
    "#单位\n",
    "x_major_locator=MultipleLocator(1)\n",
    "y_major_locator=MultipleLocator(0.8)\n",
    "ax1.xaxis.set_major_locator(x_major_locator)\n",
    "ax1.yaxis.set_major_locator(y_major_locator)\n",
    "\n",
    "#定义背景\n",
    "#plt.grid(color='black',linestyle='--',linewidth=1,alpha=0.1,zorder=0) \n",
    "\n",
    "#标签大小\n",
    "plt.xticks(fontsize=25)\n",
    "plt.yticks(fontsize=25)\n",
    "\n",
    "#标题和大小\n",
    "ax = plt.subplot()\n",
    "ax.set_xlabel(xlabel='Dimensionality',fontsize=28)\n",
    "ax.set_ylabel(ylabel='SlogP_VSA2',fontsize=28)\n",
    "\n",
    "\n",
    "#保存图片\n",
    "plt.savefig('Figure13_3_Violin_SlogP_VSA2.png',dpi=1080,bbox_inches='tight',transparent=True)"
   ]
  },
  {
   "cell_type": "code",
   "execution_count": null,
   "id": "e1f717f3",
   "metadata": {
    "scrolled": true
   },
   "outputs": [],
   "source": [
    "data9 = pd.read_excel('V8_RFE6_ranked.xlsx')\n",
    "data9"
   ]
  },
  {
   "cell_type": "code",
   "execution_count": null,
   "id": "430b951b",
   "metadata": {},
   "outputs": [],
   "source": [
    "X = data9.iloc[:,3:6]\n",
    "Y = data9.iloc[:,2:3]\n",
    "X"
   ]
  },
  {
   "cell_type": "code",
   "execution_count": null,
   "id": "13c22d6f",
   "metadata": {},
   "outputs": [],
   "source": [
    "X_std = StandardScaler().fit_transform(X)\n",
    "X_nml = Normalizer().fit_transform(X_std)"
   ]
  },
  {
   "cell_type": "code",
   "execution_count": null,
   "id": "511cd382",
   "metadata": {},
   "outputs": [],
   "source": [
    "x_train,x_test,y_train,y_test = train_test_split(X_nml,Y,test_size=0.2,random_state=5)"
   ]
  },
  {
   "cell_type": "code",
   "execution_count": null,
   "id": "9b4e700c",
   "metadata": {},
   "outputs": [],
   "source": [
    "x_train"
   ]
  },
  {
   "cell_type": "code",
   "execution_count": null,
   "id": "8d25d382",
   "metadata": {},
   "outputs": [],
   "source": [
    "#先试一下KNN调参\n",
    "params = {'n_neighbors':[1,2,3,4,5,6,7,8,9,10,20,30],\n",
    "          'algorithm':['auto','ball_tree','kd_tree','brute'],\n",
    "          'leaf_size':[10,20,30,40,50,60,70,80,90,100,200,300],\n",
    "          'weights':['uniform','distance']\n",
    "          #'p':[1,2]\n",
    "         }\n",
    "clf = GridSearchCV(model_KNN,param_grid=params,cv=10)\n",
    "clf.fit(x_train,y_train)\n",
    "\n",
    "model_KNN_best = clf.best_estimator_\n",
    "print(clf.best_params_)\n",
    "clf.best_score_"
   ]
  },
  {
   "cell_type": "code",
   "execution_count": null,
   "id": "c4425bd1",
   "metadata": {},
   "outputs": [],
   "source": [
    "data16 = pd.read_excel('SelfpredictAsite_SHAPranked5.xlsx')\n",
    "data16"
   ]
  },
  {
   "cell_type": "code",
   "execution_count": null,
   "id": "65e06dd9",
   "metadata": {},
   "outputs": [],
   "source": [
    "X16 = data16.iloc[:,3:5]\n",
    "Y16 = data16.iloc[:,1:2]\n",
    "Y16"
   ]
  },
  {
   "cell_type": "code",
   "execution_count": null,
   "id": "6f046c9d",
   "metadata": {},
   "outputs": [],
   "source": [
    "X16_std = StandardScaler().fit_transform(X16)\n",
    "X16_nml = Normalizer().fit_transform(X16_std)\n",
    "X16_nml"
   ]
  },
  {
   "cell_type": "code",
   "execution_count": null,
   "id": "4a59006d",
   "metadata": {},
   "outputs": [],
   "source": [
    "model_KNN2 = KNeighborsClassifier(leaf_size=10, n_neighbors=20,weights='distance',algorithm='auto')\n",
    "model_KNN2.fit(x_train,y_train)\n",
    "print(model_KNN2.predict_proba(x_train))"
   ]
  },
  {
   "cell_type": "code",
   "execution_count": null,
   "id": "9ac82375",
   "metadata": {
    "scrolled": false
   },
   "outputs": [],
   "source": [
    "y_train.to_excel(\"d.xlsx\")"
   ]
  },
  {
   "cell_type": "code",
   "execution_count": null,
   "id": "3730d9c4",
   "metadata": {},
   "outputs": [],
   "source": [
    "a = pd.DataFrame(model_KNN2.predict_proba(x_train)) \n",
    "a.to_excel(\"c.xlsx\")"
   ]
  },
  {
   "cell_type": "code",
   "execution_count": null,
   "id": "faeedeb6",
   "metadata": {
    "scrolled": false
   },
   "outputs": [],
   "source": [
    "# https://cloud.tencent.com/developer/article/1725049\n",
    "#model_KNN2 = KNeighborsClassifier(leaf_size=10, n_neighbors=20,weights='distance',algorithm='auto')\n",
    "#model_RF2 = RandomForestClassifier(criterion='gini',max_depth=10,min_samples_leaf=3,min_samples_split=2,n_estimators=10)\n",
    "#model_KNN_best2 = model_KNN_best(n_neighbors=10)\n",
    "model_KNN_best.fit(x_train,y_train)\n",
    "print(model_KNN_best.predict_proba(x_test))"
   ]
  },
  {
   "cell_type": "code",
   "execution_count": null,
   "id": "0b67c7d2",
   "metadata": {},
   "outputs": [],
   "source": [
    "y_train.to_excel('b.xlsx')"
   ]
  },
  {
   "cell_type": "code",
   "execution_count": null,
   "id": "ad2d9d8f",
   "metadata": {},
   "outputs": [],
   "source": [
    "best_KNN_predict_proba = pd.DataFrame(model_KNN_best.predict_proba(x_test))\n",
    "best_KNN_predict_proba.to_excel('d.xlsx')"
   ]
  },
  {
   "cell_type": "code",
   "execution_count": null,
   "id": "3df950a6",
   "metadata": {},
   "outputs": [],
   "source": [
    "y_test"
   ]
  },
  {
   "cell_type": "code",
   "execution_count": null,
   "id": "a1427f4e",
   "metadata": {},
   "outputs": [],
   "source": [
    "# http://www.ecmlpkdd2018.org/wp-content/uploads/2018/09/749.pdf"
   ]
  },
  {
   "cell_type": "code",
   "execution_count": null,
   "id": "40c9ed72",
   "metadata": {},
   "outputs": [],
   "source": [
    "import pysubgroup as ps"
   ]
  },
  {
   "cell_type": "code",
   "execution_count": null,
   "id": "e3e3399f",
   "metadata": {},
   "outputs": [],
   "source": [
    "data10 = pd.read_excel('V8_RFE6_ranked.xlsx')\n",
    "data10.head(5)"
   ]
  },
  {
   "cell_type": "code",
   "execution_count": null,
   "id": "5a7dcd53",
   "metadata": {
    "scrolled": true
   },
   "outputs": [],
   "source": [
    "X = data10.iloc[:,3:6]\n",
    "Y = data10.iloc[:,2:3]\n",
    "X"
   ]
  },
  {
   "cell_type": "code",
   "execution_count": null,
   "id": "cd60ba25",
   "metadata": {},
   "outputs": [],
   "source": [
    "target = ps.BinaryTarget('Dimensionality',True)\n",
    "# searchspace = ps.create_selectors(data10,ignore=['Unnamed: 0','序号','Dimensionality'])\n",
    "searchspace = ps.create_selectors(X)\n",
    "task = ps.SubgroupDiscoveryTask(\n",
    "    data10,\n",
    "    target,\n",
    "    searchspace,\n",
    "    result_set_size=5,\n",
    "    depth=2,\n",
    "    qf=ps.WRAccQF())\n",
    "result = ps.BeamSearch().execute(task)\n"
   ]
  },
  {
   "cell_type": "code",
   "execution_count": null,
   "id": "f9db67ee",
   "metadata": {},
   "outputs": [],
   "source": [
    "result.to_dataframe()"
   ]
  },
  {
   "cell_type": "code",
   "execution_count": null,
   "id": "0472109c",
   "metadata": {},
   "outputs": [],
   "source": [
    "result.to_dataframe().to_excel('Table3_ARM_PySubgroup_3Features.xlsx')"
   ]
  },
  {
   "cell_type": "code",
   "execution_count": null,
   "id": "472927db",
   "metadata": {},
   "outputs": [],
   "source": [
    "# https://www.geeksforgeeks.org/implementing-apriori-algorithm-in-python/\n",
    "# https://www.section.io/engineering-education/apriori-algorithm-in-python/"
   ]
  },
  {
   "cell_type": "code",
   "execution_count": null,
   "id": "a9e9df14",
   "metadata": {},
   "outputs": [],
   "source": [
    "import numpy as np\n",
    "import pandas as pd\n",
    "from mlxtend.frequent_patterns import apriori, association_rules"
   ]
  },
  {
   "cell_type": "code",
   "execution_count": null,
   "id": "79424d13",
   "metadata": {},
   "outputs": [],
   "source": [
    "data10.head()"
   ]
  },
  {
   "cell_type": "code",
   "execution_count": null,
   "id": "82718eb8",
   "metadata": {},
   "outputs": [],
   "source": [
    "data10.columns"
   ]
  },
  {
   "cell_type": "code",
   "execution_count": null,
   "id": "5c605631",
   "metadata": {},
   "outputs": [],
   "source": [
    "data10.Dimensionality.unique()"
   ]
  },
  {
   "cell_type": "code",
   "execution_count": null,
   "id": "d0035b2c",
   "metadata": {},
   "outputs": [],
   "source": [
    "data10_2D = (data10[data10['Dimensionality']=='2'].groupby(['ATSC1pe','MATS2c', 'SlogP_VSA2',\n",
    "       'ATSC3c', 'GATS2c', 'AATSC2c'])['MATS2c']\n",
    "          .sum().unstack().reset_index().fillna(0)\n",
    "          .set_index('ATSC1pe'))\n",
    "data10_2D"
   ]
  },
  {
   "cell_type": "code",
   "execution_count": null,
   "id": "1cd1dd47",
   "metadata": {},
   "outputs": [],
   "source": [
    "# https://www.kaggle.com/code/averkij/conditional-variational-autoencoder-and-t-sne "
   ]
  },
  {
   "cell_type": "code",
   "execution_count": null,
   "id": "f8dfb94a",
   "metadata": {},
   "outputs": [],
   "source": [
    "pwd"
   ]
  },
  {
   "cell_type": "code",
   "execution_count": null,
   "id": "aca8b898",
   "metadata": {
    "scrolled": true
   },
   "outputs": [],
   "source": [
    "cd ./CVAE_master/"
   ]
  },
  {
   "cell_type": "code",
   "execution_count": null,
   "id": "46b8907a",
   "metadata": {},
   "outputs": [],
   "source": [
    "# %load cal_prop.py\n",
    "\n",
    "from rdkit.Chem.Descriptors import ExactMolWt\n",
    "from rdkit.Chem.Crippen import MolLogP\n",
    "from rdkit.Chem.rdMolDescriptors import CalcNumHBD\n",
    "from rdkit.Chem.rdMolDescriptors import CalcNumHBA\n",
    "from rdkit.Chem.rdMolDescriptors import CalcTPSA\n",
    "from rdkit import Chem\n",
    "from multiprocessing import Pool\n",
    "import argparse\n",
    "\n",
    "parser = argparse.ArgumentParser()\n",
    "parser.add_argument('--input_filename', help='filename for smiles', type=str, default='smiles2.txt')\n",
    "parser.add_argument('--output_filename', help='name of output file', type=str, default='smiles2_prop.txt')\n",
    "parser.add_argument('--ncpus', help='number of cpus', type=int, default=1)\n",
    "args,unknown = parser.parse_known_args()\n",
    "\n",
    "def cal_prop(s):\n",
    "    m = Chem.MolFromSmiles(s)\n",
    "    if m is None : return None\n",
    "    return Chem.MolToSmiles(m), ExactMolWt(m), MolLogP(m), CalcNumHBD(m), CalcNumHBA(m), CalcTPSA(m)\n",
    "    #return Chem.MolToSmiles(m), ExactMolWt(m), MolLogP(m), CalcNumHBD(m), CalcNumHBA(m), CalcTPSA(m)\n",
    "\n",
    "with open(args.input_filename) as f:\n",
    "    smiles = f.read().split('\\n')[:-1]\n",
    "pool = Pool(8)\n",
    "\n",
    "r = pool.map_async(cal_prop, smiles)\n",
    "\n",
    "data = r.get()\n",
    "pool.close()\n",
    "pool.join()\n",
    "w = open(args.output_filename, 'w')\n",
    "for d in data:\n",
    "    if d is None:\n",
    "        continue\n",
    "    w.write(d[0] + '\\t' + str(d[1]) + '\\t'+ str(d[2]) + '\\t'+ str(d[3]) + '\\n')\n",
    "w.close()    \n",
    "\n"
   ]
  },
  {
   "cell_type": "code",
   "execution_count": null,
   "id": "29622019",
   "metadata": {},
   "outputs": [],
   "source": [
    "import sys\n",
    "sys.version"
   ]
  },
  {
   "cell_type": "code",
   "execution_count": null,
   "id": "c971967a",
   "metadata": {},
   "outputs": [],
   "source": []
  },
  {
   "cell_type": "code",
   "execution_count": null,
   "id": "2a3b15b9",
   "metadata": {},
   "outputs": [],
   "source": []
  },
  {
   "cell_type": "code",
   "execution_count": null,
   "id": "acfbf98d",
   "metadata": {},
   "outputs": [],
   "source": []
  },
  {
   "cell_type": "code",
   "execution_count": null,
   "id": "5eb46db6",
   "metadata": {},
   "outputs": [],
   "source": []
  },
  {
   "cell_type": "code",
   "execution_count": null,
   "id": "1230cc8b",
   "metadata": {},
   "outputs": [],
   "source": []
  },
  {
   "cell_type": "code",
   "execution_count": null,
   "id": "477f312d",
   "metadata": {},
   "outputs": [],
   "source": []
  }
 ],
 "metadata": {
  "kernelspec": {
   "display_name": "Python 3 (ipykernel)",
   "language": "python",
   "name": "python3"
  },
  "language_info": {
   "codemirror_mode": {
    "name": "ipython",
    "version": 3
   },
   "file_extension": ".py",
   "mimetype": "text/x-python",
   "name": "python",
   "nbconvert_exporter": "python",
   "pygments_lexer": "ipython3",
   "version": "3.9.7"
  },
  "toc": {
   "base_numbering": 1,
   "nav_menu": {},
   "number_sections": true,
   "sideBar": true,
   "skip_h1_title": false,
   "title_cell": "Table of Contents",
   "title_sidebar": "Contents",
   "toc_cell": false,
   "toc_position": {
    "height": "calc(100% - 180px)",
    "left": "10px",
    "top": "150px",
    "width": "280.233px"
   },
   "toc_section_display": true,
   "toc_window_display": true
  }
 },
 "nbformat": 4,
 "nbformat_minor": 5
}
