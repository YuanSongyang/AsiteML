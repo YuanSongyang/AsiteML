{
 "cells": [
  {
   "cell_type": "code",
   "execution_count": null,
   "id": "cc3495de",
   "metadata": {},
   "outputs": [],
   "source": [
    "# https://finthon.com/python-pca/"
   ]
  },
  {
   "cell_type": "code",
   "execution_count": null,
   "id": "06210484",
   "metadata": {},
   "outputs": [],
   "source": [
    "import numpy as np\n",
    "import matplotlib.pyplot as plt\n",
    "from sklearn.decomposition import PCA\n",
    "from sklearn.datasets import make_blobs\n",
    " \n",
    "X, y = make_blobs(n_samples=10000, n_features=3, centers=[[3, 3, 3], [0, 0, 0], [1, 1, 1], [2, 2, 2]],\n",
    "                  cluster_std=[0.2, 0.1, 0.2, 0.2], random_state=9)\n",
    " \n"
   ]
  },
  {
   "cell_type": "code",
   "execution_count": null,
   "id": "ddc30e5f",
   "metadata": {},
   "outputs": [],
   "source": [
    "# 降维到二维\n",
    "pca = PCA(n_components=2)\n",
    "pca.fit(X)\n",
    "# 输出特征值\n",
    "print(pca.explained_variance_)\n",
    "#输出特征向量\n",
    "print(pca.components_)\n",
    "# 降维后的数据\n",
    "X_new = pca.transform(X)\n",
    "print(X_new)\n",
    "fig = plt.figure()\n",
    "plt.scatter(X_new[:, 0], X_new[:, 1], marker='o')\n",
    "plt.show()"
   ]
  },
  {
   "cell_type": "code",
   "execution_count": null,
   "id": "a5f02719",
   "metadata": {
    "scrolled": true
   },
   "outputs": [],
   "source": [
    "X"
   ]
  },
  {
   "cell_type": "code",
   "execution_count": null,
   "id": "6d1bfb3f",
   "metadata": {},
   "outputs": [],
   "source": [
    "# 计算特征值和特征向量\n",
    "eigvalue, eigvector = np.linalg.eig(np.cov(X.T))\n",
    "print(eigvalue)\n",
    "print(eigvector)"
   ]
  },
  {
   "cell_type": "code",
   "execution_count": null,
   "id": "b0ef6077",
   "metadata": {},
   "outputs": [],
   "source": []
  },
  {
   "cell_type": "code",
   "execution_count": null,
   "id": "05f2b962",
   "metadata": {},
   "outputs": [],
   "source": [
    "data = pd.read_excel('')\n"
   ]
  },
  {
   "cell_type": "code",
   "execution_count": null,
   "id": "faf4ae9d",
   "metadata": {},
   "outputs": [],
   "source": []
  },
  {
   "cell_type": "code",
   "execution_count": null,
   "id": "978e3fcc",
   "metadata": {},
   "outputs": [],
   "source": []
  },
  {
   "cell_type": "code",
   "execution_count": null,
   "id": "17130327",
   "metadata": {},
   "outputs": [],
   "source": []
  },
  {
   "cell_type": "code",
   "execution_count": null,
   "id": "1bad2e8a",
   "metadata": {},
   "outputs": [],
   "source": []
  },
  {
   "cell_type": "code",
   "execution_count": null,
   "id": "c5f6a9d1",
   "metadata": {},
   "outputs": [],
   "source": []
  },
  {
   "cell_type": "code",
   "execution_count": null,
   "id": "12ce8837",
   "metadata": {},
   "outputs": [],
   "source": []
  }
 ],
 "metadata": {
  "kernelspec": {
   "display_name": "Python 3 (ipykernel)",
   "language": "python",
   "name": "python3"
  },
  "language_info": {
   "codemirror_mode": {
    "name": "ipython",
    "version": 3
   },
   "file_extension": ".py",
   "mimetype": "text/x-python",
   "name": "python",
   "nbconvert_exporter": "python",
   "pygments_lexer": "ipython3",
   "version": "3.9.7"
  },
  "toc": {
   "base_numbering": 1,
   "nav_menu": {},
   "number_sections": true,
   "sideBar": true,
   "skip_h1_title": false,
   "title_cell": "Table of Contents",
   "title_sidebar": "Contents",
   "toc_cell": false,
   "toc_position": {},
   "toc_section_display": true,
   "toc_window_display": false
  }
 },
 "nbformat": 4,
 "nbformat_minor": 5
}
